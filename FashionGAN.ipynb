{
  "cells": [
    {
      "cell_type": "markdown",
      "id": "64f04b6a-fe54-41ce-92fe-ae94fc587387",
      "metadata": {
        "id": "64f04b6a-fe54-41ce-92fe-ae94fc587387"
      },
      "source": [
        "# 1. Import Dependencies and Data"
      ]
    },
    {
      "cell_type": "code",
      "execution_count": 1,
      "id": "c3c355f3-39f9-4f73-ac4e-5ad62198a580",
      "metadata": {
        "colab": {
          "base_uri": "https://localhost:8080/"
        },
        "id": "c3c355f3-39f9-4f73-ac4e-5ad62198a580",
        "outputId": "6a012123-4273-45fd-e244-c3119964d733"
      },
      "outputs": [
        {
          "name": "stdout",
          "output_type": "stream",
          "text": [
            "Requirement already satisfied: tensorflow in c:\\users\\haris\\anaconda\\envs\\gpu2\\lib\\site-packages (2.11.0)\n",
            "Requirement already satisfied: tensorflow-intel==2.11.0 in c:\\users\\haris\\anaconda\\envs\\gpu2\\lib\\site-packages (from tensorflow) (2.11.0)\n",
            "Requirement already satisfied: setuptools in c:\\users\\haris\\anaconda\\envs\\gpu2\\lib\\site-packages (from tensorflow-intel==2.11.0->tensorflow) (65.6.3)\n",
            "Requirement already satisfied: astunparse>=1.6.0 in c:\\users\\haris\\anaconda\\envs\\gpu2\\lib\\site-packages (from tensorflow-intel==2.11.0->tensorflow) (1.6.3)\n",
            "Requirement already satisfied: tensorflow-io-gcs-filesystem>=0.23.1 in c:\\users\\haris\\anaconda\\envs\\gpu2\\lib\\site-packages (from tensorflow-intel==2.11.0->tensorflow) (0.31.0)\n",
            "Requirement already satisfied: keras<2.12,>=2.11.0 in c:\\users\\haris\\anaconda\\envs\\gpu2\\lib\\site-packages (from tensorflow-intel==2.11.0->tensorflow) (2.11.0)\n",
            "Requirement already satisfied: numpy>=1.20 in c:\\users\\haris\\anaconda\\envs\\gpu2\\lib\\site-packages (from tensorflow-intel==2.11.0->tensorflow) (1.24.2)\n",
            "Requirement already satisfied: tensorboard<2.12,>=2.11 in c:\\users\\haris\\anaconda\\envs\\gpu2\\lib\\site-packages (from tensorflow-intel==2.11.0->tensorflow) (2.11.2)\n",
            "Requirement already satisfied: flatbuffers>=2.0 in c:\\users\\haris\\anaconda\\envs\\gpu2\\lib\\site-packages (from tensorflow-intel==2.11.0->tensorflow) (23.1.21)\n",
            "Requirement already satisfied: wrapt>=1.11.0 in c:\\users\\haris\\anaconda\\envs\\gpu2\\lib\\site-packages (from tensorflow-intel==2.11.0->tensorflow) (1.15.0)\n",
            "Requirement already satisfied: grpcio<2.0,>=1.24.3 in c:\\users\\haris\\anaconda\\envs\\gpu2\\lib\\site-packages (from tensorflow-intel==2.11.0->tensorflow) (1.51.3)\n",
            "Requirement already satisfied: libclang>=13.0.0 in c:\\users\\haris\\anaconda\\envs\\gpu2\\lib\\site-packages (from tensorflow-intel==2.11.0->tensorflow) (15.0.6.1)\n",
            "Requirement already satisfied: gast<=0.4.0,>=0.2.1 in c:\\users\\haris\\anaconda\\envs\\gpu2\\lib\\site-packages (from tensorflow-intel==2.11.0->tensorflow) (0.4.0)\n",
            "Requirement already satisfied: h5py>=2.9.0 in c:\\users\\haris\\anaconda\\envs\\gpu2\\lib\\site-packages (from tensorflow-intel==2.11.0->tensorflow) (3.8.0)\n",
            "Requirement already satisfied: six>=1.12.0 in c:\\users\\haris\\anaconda\\envs\\gpu2\\lib\\site-packages (from tensorflow-intel==2.11.0->tensorflow) (1.16.0)\n",
            "Requirement already satisfied: termcolor>=1.1.0 in c:\\users\\haris\\anaconda\\envs\\gpu2\\lib\\site-packages (from tensorflow-intel==2.11.0->tensorflow) (2.2.0)\n",
            "Requirement already satisfied: typing-extensions>=3.6.6 in c:\\users\\haris\\anaconda\\envs\\gpu2\\lib\\site-packages (from tensorflow-intel==2.11.0->tensorflow) (4.4.0)\n",
            "Requirement already satisfied: tensorflow-estimator<2.12,>=2.11.0 in c:\\users\\haris\\anaconda\\envs\\gpu2\\lib\\site-packages (from tensorflow-intel==2.11.0->tensorflow) (2.11.0)\n",
            "Requirement already satisfied: protobuf<3.20,>=3.9.2 in c:\\users\\haris\\anaconda\\envs\\gpu2\\lib\\site-packages (from tensorflow-intel==2.11.0->tensorflow) (3.19.6)\n",
            "Requirement already satisfied: google-pasta>=0.1.1 in c:\\users\\haris\\anaconda\\envs\\gpu2\\lib\\site-packages (from tensorflow-intel==2.11.0->tensorflow) (0.2.0)\n",
            "Requirement already satisfied: opt-einsum>=2.3.2 in c:\\users\\haris\\anaconda\\envs\\gpu2\\lib\\site-packages (from tensorflow-intel==2.11.0->tensorflow) (3.3.0)\n",
            "Requirement already satisfied: packaging in c:\\users\\haris\\anaconda\\envs\\gpu2\\lib\\site-packages (from tensorflow-intel==2.11.0->tensorflow) (23.0)\n",
            "Requirement already satisfied: absl-py>=1.0.0 in c:\\users\\haris\\anaconda\\envs\\gpu2\\lib\\site-packages (from tensorflow-intel==2.11.0->tensorflow) (1.4.0)\n",
            "Requirement already satisfied: wheel<1.0,>=0.23.0 in c:\\users\\haris\\anaconda\\envs\\gpu2\\lib\\site-packages (from astunparse>=1.6.0->tensorflow-intel==2.11.0->tensorflow) (0.38.4)\n",
            "Requirement already satisfied: google-auth-oauthlib<0.5,>=0.4.1 in c:\\users\\haris\\anaconda\\envs\\gpu2\\lib\\site-packages (from tensorboard<2.12,>=2.11->tensorflow-intel==2.11.0->tensorflow) (0.4.6)\n",
            "Requirement already satisfied: markdown>=2.6.8 in c:\\users\\haris\\anaconda\\envs\\gpu2\\lib\\site-packages (from tensorboard<2.12,>=2.11->tensorflow-intel==2.11.0->tensorflow) (3.4.1)\n",
            "Requirement already satisfied: google-auth<3,>=1.6.3 in c:\\users\\haris\\anaconda\\envs\\gpu2\\lib\\site-packages (from tensorboard<2.12,>=2.11->tensorflow-intel==2.11.0->tensorflow) (2.16.1)\n",
            "Requirement already satisfied: requests<3,>=2.21.0 in c:\\users\\haris\\anaconda\\envs\\gpu2\\lib\\site-packages (from tensorboard<2.12,>=2.11->tensorflow-intel==2.11.0->tensorflow) (2.28.2)\n",
            "Requirement already satisfied: tensorboard-data-server<0.7.0,>=0.6.0 in c:\\users\\haris\\anaconda\\envs\\gpu2\\lib\\site-packages (from tensorboard<2.12,>=2.11->tensorflow-intel==2.11.0->tensorflow) (0.6.1)\n",
            "Requirement already satisfied: tensorboard-plugin-wit>=1.6.0 in c:\\users\\haris\\anaconda\\envs\\gpu2\\lib\\site-packages (from tensorboard<2.12,>=2.11->tensorflow-intel==2.11.0->tensorflow) (1.8.1)\n",
            "Requirement already satisfied: werkzeug>=1.0.1 in c:\\users\\haris\\anaconda\\envs\\gpu2\\lib\\site-packages (from tensorboard<2.12,>=2.11->tensorflow-intel==2.11.0->tensorflow) (2.2.3)\n",
            "Requirement already satisfied: cachetools<6.0,>=2.0.0 in c:\\users\\haris\\anaconda\\envs\\gpu2\\lib\\site-packages (from google-auth<3,>=1.6.3->tensorboard<2.12,>=2.11->tensorflow-intel==2.11.0->tensorflow) (5.3.0)\n",
            "Requirement already satisfied: rsa<5,>=3.1.4 in c:\\users\\haris\\anaconda\\envs\\gpu2\\lib\\site-packages (from google-auth<3,>=1.6.3->tensorboard<2.12,>=2.11->tensorflow-intel==2.11.0->tensorflow) (4.9)\n",
            "Requirement already satisfied: pyasn1-modules>=0.2.1 in c:\\users\\haris\\anaconda\\envs\\gpu2\\lib\\site-packages (from google-auth<3,>=1.6.3->tensorboard<2.12,>=2.11->tensorflow-intel==2.11.0->tensorflow) (0.2.8)\n",
            "Requirement already satisfied: requests-oauthlib>=0.7.0 in c:\\users\\haris\\anaconda\\envs\\gpu2\\lib\\site-packages (from google-auth-oauthlib<0.5,>=0.4.1->tensorboard<2.12,>=2.11->tensorflow-intel==2.11.0->tensorflow) (1.3.1)\n",
            "Requirement already satisfied: importlib-metadata>=4.4 in c:\\users\\haris\\anaconda\\envs\\gpu2\\lib\\site-packages (from markdown>=2.6.8->tensorboard<2.12,>=2.11->tensorflow-intel==2.11.0->tensorflow) (6.0.0)\n",
            "Requirement already satisfied: certifi>=2017.4.17 in c:\\users\\haris\\anaconda\\envs\\gpu2\\lib\\site-packages (from requests<3,>=2.21.0->tensorboard<2.12,>=2.11->tensorflow-intel==2.11.0->tensorflow) (2022.12.7)\n",
            "Requirement already satisfied: idna<4,>=2.5 in c:\\users\\haris\\anaconda\\envs\\gpu2\\lib\\site-packages (from requests<3,>=2.21.0->tensorboard<2.12,>=2.11->tensorflow-intel==2.11.0->tensorflow) (3.4)\n",
            "Requirement already satisfied: charset-normalizer<4,>=2 in c:\\users\\haris\\anaconda\\envs\\gpu2\\lib\\site-packages (from requests<3,>=2.21.0->tensorboard<2.12,>=2.11->tensorflow-intel==2.11.0->tensorflow) (3.0.1)\n",
            "Requirement already satisfied: urllib3<1.27,>=1.21.1 in c:\\users\\haris\\anaconda\\envs\\gpu2\\lib\\site-packages (from requests<3,>=2.21.0->tensorboard<2.12,>=2.11->tensorflow-intel==2.11.0->tensorflow) (1.26.14)\n",
            "Requirement already satisfied: MarkupSafe>=2.1.1 in c:\\users\\haris\\anaconda\\envs\\gpu2\\lib\\site-packages (from werkzeug>=1.0.1->tensorboard<2.12,>=2.11->tensorflow-intel==2.11.0->tensorflow) (2.1.2)\n",
            "Requirement already satisfied: zipp>=0.5 in c:\\users\\haris\\anaconda\\envs\\gpu2\\lib\\site-packages (from importlib-metadata>=4.4->markdown>=2.6.8->tensorboard<2.12,>=2.11->tensorflow-intel==2.11.0->tensorflow) (3.15.0)\n",
            "Requirement already satisfied: pyasn1<0.5.0,>=0.4.6 in c:\\users\\haris\\anaconda\\envs\\gpu2\\lib\\site-packages (from pyasn1-modules>=0.2.1->google-auth<3,>=1.6.3->tensorboard<2.12,>=2.11->tensorflow-intel==2.11.0->tensorflow) (0.4.8)\n",
            "Requirement already satisfied: oauthlib>=3.0.0 in c:\\users\\haris\\anaconda\\envs\\gpu2\\lib\\site-packages (from requests-oauthlib>=0.7.0->google-auth-oauthlib<0.5,>=0.4.1->tensorboard<2.12,>=2.11->tensorflow-intel==2.11.0->tensorflow) (3.2.2)\n"
          ]
        }
      ],
      "source": [
        "!pip install tensorflow"
      ]
    },
    {
      "cell_type": "code",
      "execution_count": 3,
      "id": "u9sxQ4X9gSo0",
      "metadata": {
        "colab": {
          "base_uri": "https://localhost:8080/"
        },
        "id": "u9sxQ4X9gSo0",
        "outputId": "6f3cfcd6-1637-45f5-ab79-9d3c6b966851"
      },
      "outputs": [
        {
          "name": "stdout",
          "output_type": "stream",
          "text": [
            "Requirement already satisfied: tensorflow in c:\\users\\haris\\anaconda\\envs\\gpu2\\lib\\site-packages (2.11.0)\n",
            "Requirement already satisfied: tensorflow-intel==2.11.0 in c:\\users\\haris\\anaconda\\envs\\gpu2\\lib\\site-packages (from tensorflow) (2.11.0)\n",
            "Requirement already satisfied: gast<=0.4.0,>=0.2.1 in c:\\users\\haris\\anaconda\\envs\\gpu2\\lib\\site-packages (from tensorflow-intel==2.11.0->tensorflow) (0.4.0)\n",
            "Requirement already satisfied: setuptools in c:\\users\\haris\\anaconda\\envs\\gpu2\\lib\\site-packages (from tensorflow-intel==2.11.0->tensorflow) (65.6.3)\n",
            "Requirement already satisfied: astunparse>=1.6.0 in c:\\users\\haris\\anaconda\\envs\\gpu2\\lib\\site-packages (from tensorflow-intel==2.11.0->tensorflow) (1.6.3)\n",
            "Requirement already satisfied: opt-einsum>=2.3.2 in c:\\users\\haris\\anaconda\\envs\\gpu2\\lib\\site-packages (from tensorflow-intel==2.11.0->tensorflow) (3.3.0)\n",
            "Requirement already satisfied: tensorflow-estimator<2.12,>=2.11.0 in c:\\users\\haris\\anaconda\\envs\\gpu2\\lib\\site-packages (from tensorflow-intel==2.11.0->tensorflow) (2.11.0)\n",
            "Requirement already satisfied: protobuf<3.20,>=3.9.2 in c:\\users\\haris\\anaconda\\envs\\gpu2\\lib\\site-packages (from tensorflow-intel==2.11.0->tensorflow) (3.19.6)\n",
            "Requirement already satisfied: termcolor>=1.1.0 in c:\\users\\haris\\anaconda\\envs\\gpu2\\lib\\site-packages (from tensorflow-intel==2.11.0->tensorflow) (2.2.0)\n",
            "Requirement already satisfied: tensorflow-io-gcs-filesystem>=0.23.1 in c:\\users\\haris\\anaconda\\envs\\gpu2\\lib\\site-packages (from tensorflow-intel==2.11.0->tensorflow) (0.31.0)\n",
            "Requirement already satisfied: h5py>=2.9.0 in c:\\users\\haris\\anaconda\\envs\\gpu2\\lib\\site-packages (from tensorflow-intel==2.11.0->tensorflow) (3.8.0)\n",
            "Requirement already satisfied: grpcio<2.0,>=1.24.3 in c:\\users\\haris\\anaconda\\envs\\gpu2\\lib\\site-packages (from tensorflow-intel==2.11.0->tensorflow) (1.51.3)\n",
            "Requirement already satisfied: packaging in c:\\users\\haris\\anaconda\\envs\\gpu2\\lib\\site-packages (from tensorflow-intel==2.11.0->tensorflow) (23.0)\n",
            "Requirement already satisfied: tensorboard<2.12,>=2.11 in c:\\users\\haris\\anaconda\\envs\\gpu2\\lib\\site-packages (from tensorflow-intel==2.11.0->tensorflow) (2.11.2)\n",
            "Requirement already satisfied: flatbuffers>=2.0 in c:\\users\\haris\\anaconda\\envs\\gpu2\\lib\\site-packages (from tensorflow-intel==2.11.0->tensorflow) (23.1.21)\n",
            "Requirement already satisfied: absl-py>=1.0.0 in c:\\users\\haris\\anaconda\\envs\\gpu2\\lib\\site-packages (from tensorflow-intel==2.11.0->tensorflow) (1.4.0)\n",
            "Requirement already satisfied: google-pasta>=0.1.1 in c:\\users\\haris\\anaconda\\envs\\gpu2\\lib\\site-packages (from tensorflow-intel==2.11.0->tensorflow) (0.2.0)\n",
            "Requirement already satisfied: typing-extensions>=3.6.6 in c:\\users\\haris\\anaconda\\envs\\gpu2\\lib\\site-packages (from tensorflow-intel==2.11.0->tensorflow) (4.4.0)\n",
            "Requirement already satisfied: keras<2.12,>=2.11.0 in c:\\users\\haris\\anaconda\\envs\\gpu2\\lib\\site-packages (from tensorflow-intel==2.11.0->tensorflow) (2.11.0)\n",
            "Requirement already satisfied: wrapt>=1.11.0 in c:\\users\\haris\\anaconda\\envs\\gpu2\\lib\\site-packages (from tensorflow-intel==2.11.0->tensorflow) (1.15.0)\n",
            "Requirement already satisfied: six>=1.12.0 in c:\\users\\haris\\anaconda\\envs\\gpu2\\lib\\site-packages (from tensorflow-intel==2.11.0->tensorflow) (1.16.0)\n",
            "Requirement already satisfied: numpy>=1.20 in c:\\users\\haris\\anaconda\\envs\\gpu2\\lib\\site-packages (from tensorflow-intel==2.11.0->tensorflow) (1.24.2)\n",
            "Requirement already satisfied: libclang>=13.0.0 in c:\\users\\haris\\anaconda\\envs\\gpu2\\lib\\site-packages (from tensorflow-intel==2.11.0->tensorflow) (15.0.6.1)\n",
            "Requirement already satisfied: wheel<1.0,>=0.23.0 in c:\\users\\haris\\anaconda\\envs\\gpu2\\lib\\site-packages (from astunparse>=1.6.0->tensorflow-intel==2.11.0->tensorflow) (0.38.4)\n",
            "Requirement already satisfied: markdown>=2.6.8 in c:\\users\\haris\\anaconda\\envs\\gpu2\\lib\\site-packages (from tensorboard<2.12,>=2.11->tensorflow-intel==2.11.0->tensorflow) (3.4.1)\n",
            "Requirement already satisfied: tensorboard-data-server<0.7.0,>=0.6.0 in c:\\users\\haris\\anaconda\\envs\\gpu2\\lib\\site-packages (from tensorboard<2.12,>=2.11->tensorflow-intel==2.11.0->tensorflow) (0.6.1)\n",
            "Requirement already satisfied: tensorboard-plugin-wit>=1.6.0 in c:\\users\\haris\\anaconda\\envs\\gpu2\\lib\\site-packages (from tensorboard<2.12,>=2.11->tensorflow-intel==2.11.0->tensorflow) (1.8.1)\n",
            "Requirement already satisfied: werkzeug>=1.0.1 in c:\\users\\haris\\anaconda\\envs\\gpu2\\lib\\site-packages (from tensorboard<2.12,>=2.11->tensorflow-intel==2.11.0->tensorflow) (2.2.3)\n",
            "Requirement already satisfied: requests<3,>=2.21.0 in c:\\users\\haris\\anaconda\\envs\\gpu2\\lib\\site-packages (from tensorboard<2.12,>=2.11->tensorflow-intel==2.11.0->tensorflow) (2.28.2)\n",
            "Requirement already satisfied: google-auth-oauthlib<0.5,>=0.4.1 in c:\\users\\haris\\anaconda\\envs\\gpu2\\lib\\site-packages (from tensorboard<2.12,>=2.11->tensorflow-intel==2.11.0->tensorflow) (0.4.6)\n",
            "Requirement already satisfied: google-auth<3,>=1.6.3 in c:\\users\\haris\\anaconda\\envs\\gpu2\\lib\\site-packages (from tensorboard<2.12,>=2.11->tensorflow-intel==2.11.0->tensorflow) (2.16.1)\n",
            "Requirement already satisfied: pyasn1-modules>=0.2.1 in c:\\users\\haris\\anaconda\\envs\\gpu2\\lib\\site-packages (from google-auth<3,>=1.6.3->tensorboard<2.12,>=2.11->tensorflow-intel==2.11.0->tensorflow) (0.2.8)\n",
            "Requirement already satisfied: rsa<5,>=3.1.4 in c:\\users\\haris\\anaconda\\envs\\gpu2\\lib\\site-packages (from google-auth<3,>=1.6.3->tensorboard<2.12,>=2.11->tensorflow-intel==2.11.0->tensorflow) (4.9)\n",
            "Requirement already satisfied: cachetools<6.0,>=2.0.0 in c:\\users\\haris\\anaconda\\envs\\gpu2\\lib\\site-packages (from google-auth<3,>=1.6.3->tensorboard<2.12,>=2.11->tensorflow-intel==2.11.0->tensorflow) (5.3.0)\n",
            "Requirement already satisfied: requests-oauthlib>=0.7.0 in c:\\users\\haris\\anaconda\\envs\\gpu2\\lib\\site-packages (from google-auth-oauthlib<0.5,>=0.4.1->tensorboard<2.12,>=2.11->tensorflow-intel==2.11.0->tensorflow) (1.3.1)\n",
            "Requirement already satisfied: importlib-metadata>=4.4 in c:\\users\\haris\\anaconda\\envs\\gpu2\\lib\\site-packages (from markdown>=2.6.8->tensorboard<2.12,>=2.11->tensorflow-intel==2.11.0->tensorflow) (6.0.0)\n",
            "Requirement already satisfied: urllib3<1.27,>=1.21.1 in c:\\users\\haris\\anaconda\\envs\\gpu2\\lib\\site-packages (from requests<3,>=2.21.0->tensorboard<2.12,>=2.11->tensorflow-intel==2.11.0->tensorflow) (1.26.14)\n",
            "Requirement already satisfied: certifi>=2017.4.17 in c:\\users\\haris\\anaconda\\envs\\gpu2\\lib\\site-packages (from requests<3,>=2.21.0->tensorboard<2.12,>=2.11->tensorflow-intel==2.11.0->tensorflow) (2022.12.7)\n",
            "Requirement already satisfied: charset-normalizer<4,>=2 in c:\\users\\haris\\anaconda\\envs\\gpu2\\lib\\site-packages (from requests<3,>=2.21.0->tensorboard<2.12,>=2.11->tensorflow-intel==2.11.0->tensorflow) (3.0.1)\n",
            "Requirement already satisfied: idna<4,>=2.5 in c:\\users\\haris\\anaconda\\envs\\gpu2\\lib\\site-packages (from requests<3,>=2.21.0->tensorboard<2.12,>=2.11->tensorflow-intel==2.11.0->tensorflow) (3.4)\n",
            "Requirement already satisfied: MarkupSafe>=2.1.1 in c:\\users\\haris\\anaconda\\envs\\gpu2\\lib\\site-packages (from werkzeug>=1.0.1->tensorboard<2.12,>=2.11->tensorflow-intel==2.11.0->tensorflow) (2.1.2)\n",
            "Requirement already satisfied: zipp>=0.5 in c:\\users\\haris\\anaconda\\envs\\gpu2\\lib\\site-packages (from importlib-metadata>=4.4->markdown>=2.6.8->tensorboard<2.12,>=2.11->tensorflow-intel==2.11.0->tensorflow) (3.15.0)\n",
            "Requirement already satisfied: pyasn1<0.5.0,>=0.4.6 in c:\\users\\haris\\anaconda\\envs\\gpu2\\lib\\site-packages (from pyasn1-modules>=0.2.1->google-auth<3,>=1.6.3->tensorboard<2.12,>=2.11->tensorflow-intel==2.11.0->tensorflow) (0.4.8)\n",
            "Requirement already satisfied: oauthlib>=3.0.0 in c:\\users\\haris\\anaconda\\envs\\gpu2\\lib\\site-packages (from requests-oauthlib>=0.7.0->google-auth-oauthlib<0.5,>=0.4.1->tensorboard<2.12,>=2.11->tensorflow-intel==2.11.0->tensorflow) (3.2.2)\n",
            "Note: you may need to restart the kernel to use updated packages.\n"
          ]
        }
      ],
      "source": [
        "%pip install tensorflow"
      ]
    },
    {
      "cell_type": "code",
      "execution_count": 4,
      "id": "b84be907-35e2-43db-a645-b6b164302aaa",
      "metadata": {
        "id": "b84be907-35e2-43db-a645-b6b164302aaa"
      },
      "outputs": [],
      "source": [
        "# Bringing in tensorflow\n",
        "import tensorflow as tf\n",
        "gpus = tf.config.experimental.list_physical_devices('GPU')\n",
        "for gpu in gpus: \n",
        "    tf.config.experimental.set_memory_growth(gpu, True)"
      ]
    },
    {
      "cell_type": "code",
      "execution_count": 6,
      "id": "06438140",
      "metadata": {},
      "outputs": [
        {
          "name": "stdout",
          "output_type": "stream",
          "text": [
            "Collecting tensorflow_datasets\n",
            "  Downloading tensorflow_datasets-4.8.3-py3-none-any.whl (5.4 MB)\n",
            "     ---------------------------------------- 5.4/5.4 MB 6.3 MB/s eta 0:00:00\n",
            "Requirement already satisfied: requests>=2.19.0 in c:\\users\\haris\\anaconda\\envs\\gpu2\\lib\\site-packages (from tensorflow_datasets) (2.28.2)\n",
            "Collecting dm-tree\n",
            "  Using cached dm_tree-0.1.8-cp39-cp39-win_amd64.whl (101 kB)\n",
            "Requirement already satisfied: numpy in c:\\users\\haris\\anaconda\\envs\\gpu2\\lib\\site-packages (from tensorflow_datasets) (1.24.2)\n",
            "Collecting tqdm\n",
            "  Using cached tqdm-4.64.1-py2.py3-none-any.whl (78 kB)\n",
            "Requirement already satisfied: termcolor in c:\\users\\haris\\anaconda\\envs\\gpu2\\lib\\site-packages (from tensorflow_datasets) (2.2.0)\n",
            "Requirement already satisfied: protobuf>=3.12.2 in c:\\users\\haris\\anaconda\\envs\\gpu2\\lib\\site-packages (from tensorflow_datasets) (3.19.6)\n",
            "Collecting toml\n",
            "  Using cached toml-0.10.2-py2.py3-none-any.whl (16 kB)\n",
            "Requirement already satisfied: absl-py in c:\\users\\haris\\anaconda\\envs\\gpu2\\lib\\site-packages (from tensorflow_datasets) (1.4.0)\n",
            "Collecting tensorflow-metadata\n",
            "  Using cached tensorflow_metadata-1.12.0-py3-none-any.whl (52 kB)\n",
            "Requirement already satisfied: wrapt in c:\\users\\haris\\anaconda\\envs\\gpu2\\lib\\site-packages (from tensorflow_datasets) (1.15.0)\n",
            "Collecting etils[enp,epath]>=0.9.0\n",
            "  Using cached etils-1.0.0-py3-none-any.whl (146 kB)\n",
            "Collecting promise\n",
            "  Using cached promise-2.3-py3-none-any.whl\n",
            "Requirement already satisfied: psutil in c:\\users\\haris\\anaconda\\envs\\gpu2\\lib\\site-packages (from tensorflow_datasets) (5.9.0)\n",
            "Collecting click\n",
            "  Using cached click-8.1.3-py3-none-any.whl (96 kB)\n",
            "Requirement already satisfied: typing_extensions in c:\\users\\haris\\anaconda\\envs\\gpu2\\lib\\site-packages (from etils[enp,epath]>=0.9.0->tensorflow_datasets) (4.4.0)\n",
            "Requirement already satisfied: zipp in c:\\users\\haris\\anaconda\\envs\\gpu2\\lib\\site-packages (from etils[enp,epath]>=0.9.0->tensorflow_datasets) (3.15.0)\n",
            "Requirement already satisfied: importlib_resources in c:\\users\\haris\\anaconda\\envs\\gpu2\\lib\\site-packages (from etils[enp,epath]>=0.9.0->tensorflow_datasets) (5.12.0)\n",
            "Requirement already satisfied: certifi>=2017.4.17 in c:\\users\\haris\\anaconda\\envs\\gpu2\\lib\\site-packages (from requests>=2.19.0->tensorflow_datasets) (2022.12.7)\n",
            "Requirement already satisfied: charset-normalizer<4,>=2 in c:\\users\\haris\\anaconda\\envs\\gpu2\\lib\\site-packages (from requests>=2.19.0->tensorflow_datasets) (3.0.1)\n",
            "Requirement already satisfied: urllib3<1.27,>=1.21.1 in c:\\users\\haris\\anaconda\\envs\\gpu2\\lib\\site-packages (from requests>=2.19.0->tensorflow_datasets) (1.26.14)\n",
            "Requirement already satisfied: idna<4,>=2.5 in c:\\users\\haris\\anaconda\\envs\\gpu2\\lib\\site-packages (from requests>=2.19.0->tensorflow_datasets) (3.4)\n",
            "Requirement already satisfied: colorama in c:\\users\\haris\\anaconda\\envs\\gpu2\\lib\\site-packages (from click->tensorflow_datasets) (0.4.6)\n",
            "Requirement already satisfied: six in c:\\users\\haris\\anaconda\\envs\\gpu2\\lib\\site-packages (from promise->tensorflow_datasets) (1.16.0)\n",
            "Collecting googleapis-common-protos<2,>=1.52.0\n",
            "  Using cached googleapis_common_protos-1.58.0-py2.py3-none-any.whl (223 kB)\n",
            "Installing collected packages: dm-tree, tqdm, toml, promise, googleapis-common-protos, etils, click, tensorflow-metadata, tensorflow_datasets\n",
            "Successfully installed click-8.1.3 dm-tree-0.1.8 etils-1.0.0 googleapis-common-protos-1.58.0 promise-2.3 tensorflow-metadata-1.12.0 tensorflow_datasets-4.8.3 toml-0.10.2 tqdm-4.64.1\n",
            "Note: you may need to restart the kernel to use updated packages.\n"
          ]
        }
      ],
      "source": [
        "pip install tensorflow_datasets"
      ]
    },
    {
      "cell_type": "code",
      "execution_count": 7,
      "id": "a0f2aa32-064b-448c-bb27-f19a48c40115",
      "metadata": {
        "id": "a0f2aa32-064b-448c-bb27-f19a48c40115"
      },
      "outputs": [
        {
          "name": "stderr",
          "output_type": "stream",
          "text": [
            "c:\\Users\\haris\\anaconda\\envs\\gpu2\\lib\\site-packages\\tqdm\\auto.py:22: TqdmWarning: IProgress not found. Please update jupyter and ipywidgets. See https://ipywidgets.readthedocs.io/en/stable/user_install.html\n",
            "  from .autonotebook import tqdm as notebook_tqdm\n"
          ]
        }
      ],
      "source": [
        "# Brining in tensorflow datasets for fashion mnist \n",
        "import tensorflow_datasets as tfds\n",
        "# Bringing in matplotlib for viz stuff\n",
        "from matplotlib import pyplot as plt"
      ]
    },
    {
      "cell_type": "code",
      "execution_count": 8,
      "id": "c933f988-d1ee-4d4d-8028-368a158c27e2",
      "metadata": {
        "id": "c933f988-d1ee-4d4d-8028-368a158c27e2"
      },
      "outputs": [],
      "source": [
        "# Use the tensorflow datasets api to bring in the data source\n",
        "ds = tfds.load('fashion_mnist', split='train')"
      ]
    },
    {
      "cell_type": "code",
      "execution_count": 9,
      "id": "c361db0d-8e7b-43e1-97f9-5e3f7cb01ffe",
      "metadata": {
        "colab": {
          "base_uri": "https://localhost:8080/"
        },
        "id": "c361db0d-8e7b-43e1-97f9-5e3f7cb01ffe",
        "outputId": "061db8f4-8d85-4a47-fbdb-c24c68ae8185"
      },
      "outputs": [
        {
          "data": {
            "text/plain": [
              "2"
            ]
          },
          "execution_count": 9,
          "metadata": {},
          "output_type": "execute_result"
        }
      ],
      "source": [
        "ds.as_numpy_iterator().next()['label']"
      ]
    },
    {
      "cell_type": "markdown",
      "id": "ea1635e4-4beb-493d-92c1-b106c806ca70",
      "metadata": {
        "id": "ea1635e4-4beb-493d-92c1-b106c806ca70"
      },
      "source": [
        "# 2. Viz Data and Build Dataset"
      ]
    },
    {
      "cell_type": "code",
      "execution_count": 10,
      "id": "b0c62caf-e406-4d12-af31-6f4848155844",
      "metadata": {
        "id": "b0c62caf-e406-4d12-af31-6f4848155844"
      },
      "outputs": [],
      "source": [
        "# Do some data transformation\n",
        "import numpy as np"
      ]
    },
    {
      "cell_type": "code",
      "execution_count": 11,
      "id": "3215c900-6e85-4b39-b300-ea18faf30e5c",
      "metadata": {
        "id": "3215c900-6e85-4b39-b300-ea18faf30e5c"
      },
      "outputs": [],
      "source": [
        "# Setup connection aka iterator\n",
        "dataiterator = ds.as_numpy_iterator()"
      ]
    },
    {
      "cell_type": "code",
      "execution_count": 12,
      "id": "c1d6e079-46da-43ca-80d2-b3c864d90360",
      "metadata": {
        "colab": {
          "base_uri": "https://localhost:8080/"
        },
        "id": "c1d6e079-46da-43ca-80d2-b3c864d90360",
        "outputId": "2027f716-abd9-4133-e0ea-69b789579dad",
        "scrolled": true
      },
      "outputs": [
        {
          "data": {
            "text/plain": [
              "array([[[  0],\n",
              "        [  0],\n",
              "        [  0],\n",
              "        [  0],\n",
              "        [  0],\n",
              "        [  0],\n",
              "        [  0],\n",
              "        [  0],\n",
              "        [  0],\n",
              "        [ 18],\n",
              "        [ 77],\n",
              "        [227],\n",
              "        [227],\n",
              "        [208],\n",
              "        [210],\n",
              "        [225],\n",
              "        [216],\n",
              "        [ 85],\n",
              "        [ 32],\n",
              "        [  0],\n",
              "        [  0],\n",
              "        [  0],\n",
              "        [  0],\n",
              "        [  0],\n",
              "        [  0],\n",
              "        [  0],\n",
              "        [  0],\n",
              "        [  0]],\n",
              "\n",
              "       [[  0],\n",
              "        [  0],\n",
              "        [  0],\n",
              "        [  0],\n",
              "        [  0],\n",
              "        [  0],\n",
              "        [  0],\n",
              "        [ 61],\n",
              "        [100],\n",
              "        [ 97],\n",
              "        [ 80],\n",
              "        [ 57],\n",
              "        [117],\n",
              "        [227],\n",
              "        [238],\n",
              "        [115],\n",
              "        [ 49],\n",
              "        [ 78],\n",
              "        [106],\n",
              "        [108],\n",
              "        [ 71],\n",
              "        [  0],\n",
              "        [  0],\n",
              "        [  0],\n",
              "        [  0],\n",
              "        [  0],\n",
              "        [  0],\n",
              "        [  0]],\n",
              "\n",
              "       [[  0],\n",
              "        [  0],\n",
              "        [  0],\n",
              "        [  0],\n",
              "        [  0],\n",
              "        [  0],\n",
              "        [ 81],\n",
              "        [105],\n",
              "        [ 80],\n",
              "        [ 69],\n",
              "        [ 72],\n",
              "        [ 64],\n",
              "        [ 44],\n",
              "        [ 21],\n",
              "        [ 13],\n",
              "        [ 44],\n",
              "        [ 69],\n",
              "        [ 75],\n",
              "        [ 75],\n",
              "        [ 80],\n",
              "        [114],\n",
              "        [ 80],\n",
              "        [  0],\n",
              "        [  0],\n",
              "        [  0],\n",
              "        [  0],\n",
              "        [  0],\n",
              "        [  0]],\n",
              "\n",
              "       [[  0],\n",
              "        [  0],\n",
              "        [  0],\n",
              "        [  0],\n",
              "        [  0],\n",
              "        [ 26],\n",
              "        [ 92],\n",
              "        [ 69],\n",
              "        [ 68],\n",
              "        [ 75],\n",
              "        [ 75],\n",
              "        [ 71],\n",
              "        [ 74],\n",
              "        [ 83],\n",
              "        [ 75],\n",
              "        [ 77],\n",
              "        [ 78],\n",
              "        [ 74],\n",
              "        [ 74],\n",
              "        [ 83],\n",
              "        [ 77],\n",
              "        [108],\n",
              "        [ 34],\n",
              "        [  0],\n",
              "        [  0],\n",
              "        [  0],\n",
              "        [  0],\n",
              "        [  0]],\n",
              "\n",
              "       [[  0],\n",
              "        [  0],\n",
              "        [  0],\n",
              "        [  0],\n",
              "        [  0],\n",
              "        [ 55],\n",
              "        [ 92],\n",
              "        [ 69],\n",
              "        [ 74],\n",
              "        [ 74],\n",
              "        [ 71],\n",
              "        [ 71],\n",
              "        [ 77],\n",
              "        [ 69],\n",
              "        [ 66],\n",
              "        [ 75],\n",
              "        [ 74],\n",
              "        [ 77],\n",
              "        [ 80],\n",
              "        [ 80],\n",
              "        [ 78],\n",
              "        [ 94],\n",
              "        [ 63],\n",
              "        [  0],\n",
              "        [  0],\n",
              "        [  0],\n",
              "        [  0],\n",
              "        [  0]],\n",
              "\n",
              "       [[  0],\n",
              "        [  0],\n",
              "        [  0],\n",
              "        [  0],\n",
              "        [  0],\n",
              "        [ 63],\n",
              "        [ 95],\n",
              "        [ 66],\n",
              "        [ 68],\n",
              "        [ 72],\n",
              "        [ 72],\n",
              "        [ 69],\n",
              "        [ 72],\n",
              "        [ 74],\n",
              "        [ 74],\n",
              "        [ 74],\n",
              "        [ 75],\n",
              "        [ 75],\n",
              "        [ 77],\n",
              "        [ 80],\n",
              "        [ 77],\n",
              "        [106],\n",
              "        [ 61],\n",
              "        [  0],\n",
              "        [  0],\n",
              "        [  0],\n",
              "        [  0],\n",
              "        [  0]],\n",
              "\n",
              "       [[  0],\n",
              "        [  0],\n",
              "        [  0],\n",
              "        [  0],\n",
              "        [  0],\n",
              "        [ 80],\n",
              "        [108],\n",
              "        [ 71],\n",
              "        [ 69],\n",
              "        [ 72],\n",
              "        [ 71],\n",
              "        [ 69],\n",
              "        [ 72],\n",
              "        [ 75],\n",
              "        [ 75],\n",
              "        [ 72],\n",
              "        [ 72],\n",
              "        [ 75],\n",
              "        [ 78],\n",
              "        [ 72],\n",
              "        [ 85],\n",
              "        [128],\n",
              "        [ 64],\n",
              "        [  0],\n",
              "        [  0],\n",
              "        [  0],\n",
              "        [  0],\n",
              "        [  0]],\n",
              "\n",
              "       [[  0],\n",
              "        [  0],\n",
              "        [  0],\n",
              "        [  0],\n",
              "        [  0],\n",
              "        [ 88],\n",
              "        [120],\n",
              "        [ 75],\n",
              "        [ 74],\n",
              "        [ 77],\n",
              "        [ 75],\n",
              "        [ 72],\n",
              "        [ 77],\n",
              "        [ 74],\n",
              "        [ 74],\n",
              "        [ 77],\n",
              "        [ 78],\n",
              "        [ 83],\n",
              "        [ 83],\n",
              "        [ 66],\n",
              "        [111],\n",
              "        [123],\n",
              "        [ 78],\n",
              "        [  0],\n",
              "        [  0],\n",
              "        [  0],\n",
              "        [  0],\n",
              "        [  0]],\n",
              "\n",
              "       [[  0],\n",
              "        [  0],\n",
              "        [  0],\n",
              "        [  0],\n",
              "        [  0],\n",
              "        [ 85],\n",
              "        [134],\n",
              "        [ 74],\n",
              "        [ 85],\n",
              "        [ 69],\n",
              "        [ 75],\n",
              "        [ 75],\n",
              "        [ 74],\n",
              "        [ 75],\n",
              "        [ 74],\n",
              "        [ 75],\n",
              "        [ 75],\n",
              "        [ 81],\n",
              "        [ 75],\n",
              "        [ 61],\n",
              "        [151],\n",
              "        [115],\n",
              "        [ 91],\n",
              "        [ 12],\n",
              "        [  0],\n",
              "        [  0],\n",
              "        [  0],\n",
              "        [  0]],\n",
              "\n",
              "       [[  0],\n",
              "        [  0],\n",
              "        [  0],\n",
              "        [  0],\n",
              "        [ 10],\n",
              "        [ 85],\n",
              "        [153],\n",
              "        [ 83],\n",
              "        [ 80],\n",
              "        [ 68],\n",
              "        [ 77],\n",
              "        [ 75],\n",
              "        [ 74],\n",
              "        [ 75],\n",
              "        [ 74],\n",
              "        [ 75],\n",
              "        [ 77],\n",
              "        [ 80],\n",
              "        [ 68],\n",
              "        [ 61],\n",
              "        [162],\n",
              "        [122],\n",
              "        [ 78],\n",
              "        [  6],\n",
              "        [  0],\n",
              "        [  0],\n",
              "        [  0],\n",
              "        [  0]],\n",
              "\n",
              "       [[  0],\n",
              "        [  0],\n",
              "        [  0],\n",
              "        [  0],\n",
              "        [ 30],\n",
              "        [ 75],\n",
              "        [154],\n",
              "        [ 85],\n",
              "        [ 80],\n",
              "        [ 71],\n",
              "        [ 80],\n",
              "        [ 72],\n",
              "        [ 77],\n",
              "        [ 75],\n",
              "        [ 75],\n",
              "        [ 77],\n",
              "        [ 78],\n",
              "        [ 77],\n",
              "        [ 75],\n",
              "        [ 49],\n",
              "        [191],\n",
              "        [132],\n",
              "        [ 72],\n",
              "        [ 15],\n",
              "        [  0],\n",
              "        [  0],\n",
              "        [  0],\n",
              "        [  0]],\n",
              "\n",
              "       [[  0],\n",
              "        [  0],\n",
              "        [  0],\n",
              "        [  0],\n",
              "        [ 58],\n",
              "        [ 66],\n",
              "        [174],\n",
              "        [115],\n",
              "        [ 66],\n",
              "        [ 77],\n",
              "        [ 80],\n",
              "        [ 72],\n",
              "        [ 78],\n",
              "        [ 75],\n",
              "        [ 77],\n",
              "        [ 78],\n",
              "        [ 78],\n",
              "        [ 77],\n",
              "        [ 66],\n",
              "        [ 49],\n",
              "        [222],\n",
              "        [131],\n",
              "        [ 77],\n",
              "        [ 37],\n",
              "        [  0],\n",
              "        [  0],\n",
              "        [  0],\n",
              "        [  0]],\n",
              "\n",
              "       [[  0],\n",
              "        [  0],\n",
              "        [  0],\n",
              "        [  0],\n",
              "        [ 69],\n",
              "        [ 55],\n",
              "        [179],\n",
              "        [139],\n",
              "        [ 55],\n",
              "        [ 92],\n",
              "        [ 74],\n",
              "        [ 74],\n",
              "        [ 78],\n",
              "        [ 74],\n",
              "        [ 78],\n",
              "        [ 77],\n",
              "        [ 75],\n",
              "        [ 80],\n",
              "        [ 64],\n",
              "        [ 55],\n",
              "        [242],\n",
              "        [111],\n",
              "        [ 95],\n",
              "        [ 44],\n",
              "        [  0],\n",
              "        [  0],\n",
              "        [  0],\n",
              "        [  0]],\n",
              "\n",
              "       [[  0],\n",
              "        [  0],\n",
              "        [  0],\n",
              "        [  0],\n",
              "        [ 74],\n",
              "        [ 57],\n",
              "        [159],\n",
              "        [180],\n",
              "        [ 55],\n",
              "        [ 92],\n",
              "        [ 64],\n",
              "        [ 72],\n",
              "        [ 74],\n",
              "        [ 74],\n",
              "        [ 77],\n",
              "        [ 75],\n",
              "        [ 77],\n",
              "        [ 78],\n",
              "        [ 55],\n",
              "        [ 66],\n",
              "        [255],\n",
              "        [ 97],\n",
              "        [108],\n",
              "        [ 49],\n",
              "        [  0],\n",
              "        [  0],\n",
              "        [  0],\n",
              "        [  0]],\n",
              "\n",
              "       [[  0],\n",
              "        [  0],\n",
              "        [  0],\n",
              "        [  0],\n",
              "        [ 74],\n",
              "        [ 66],\n",
              "        [145],\n",
              "        [153],\n",
              "        [ 72],\n",
              "        [ 83],\n",
              "        [ 58],\n",
              "        [ 78],\n",
              "        [ 77],\n",
              "        [ 75],\n",
              "        [ 75],\n",
              "        [ 75],\n",
              "        [ 72],\n",
              "        [ 80],\n",
              "        [ 30],\n",
              "        [132],\n",
              "        [255],\n",
              "        [ 37],\n",
              "        [122],\n",
              "        [ 60],\n",
              "        [  0],\n",
              "        [  0],\n",
              "        [  0],\n",
              "        [  0]],\n",
              "\n",
              "       [[  0],\n",
              "        [  0],\n",
              "        [  0],\n",
              "        [  0],\n",
              "        [ 80],\n",
              "        [ 69],\n",
              "        [142],\n",
              "        [180],\n",
              "        [142],\n",
              "        [ 57],\n",
              "        [ 64],\n",
              "        [ 78],\n",
              "        [ 74],\n",
              "        [ 75],\n",
              "        [ 75],\n",
              "        [ 75],\n",
              "        [ 72],\n",
              "        [ 85],\n",
              "        [ 21],\n",
              "        [185],\n",
              "        [227],\n",
              "        [ 37],\n",
              "        [143],\n",
              "        [ 63],\n",
              "        [  0],\n",
              "        [  0],\n",
              "        [  0],\n",
              "        [  0]],\n",
              "\n",
              "       [[  0],\n",
              "        [  0],\n",
              "        [  0],\n",
              "        [  0],\n",
              "        [ 83],\n",
              "        [ 71],\n",
              "        [136],\n",
              "        [194],\n",
              "        [126],\n",
              "        [ 46],\n",
              "        [ 69],\n",
              "        [ 75],\n",
              "        [ 72],\n",
              "        [ 75],\n",
              "        [ 75],\n",
              "        [ 75],\n",
              "        [ 74],\n",
              "        [ 78],\n",
              "        [ 38],\n",
              "        [139],\n",
              "        [185],\n",
              "        [ 60],\n",
              "        [151],\n",
              "        [ 58],\n",
              "        [  0],\n",
              "        [  0],\n",
              "        [  0],\n",
              "        [  0]],\n",
              "\n",
              "       [[  0],\n",
              "        [  0],\n",
              "        [  0],\n",
              "        [  4],\n",
              "        [ 81],\n",
              "        [ 74],\n",
              "        [145],\n",
              "        [177],\n",
              "        [ 78],\n",
              "        [ 49],\n",
              "        [ 74],\n",
              "        [ 77],\n",
              "        [ 75],\n",
              "        [ 75],\n",
              "        [ 75],\n",
              "        [ 75],\n",
              "        [ 74],\n",
              "        [ 72],\n",
              "        [ 63],\n",
              "        [ 80],\n",
              "        [156],\n",
              "        [117],\n",
              "        [153],\n",
              "        [ 55],\n",
              "        [  0],\n",
              "        [  0],\n",
              "        [  0],\n",
              "        [  0]],\n",
              "\n",
              "       [[  0],\n",
              "        [  0],\n",
              "        [  0],\n",
              "        [ 10],\n",
              "        [ 80],\n",
              "        [ 72],\n",
              "        [157],\n",
              "        [163],\n",
              "        [ 61],\n",
              "        [ 55],\n",
              "        [ 75],\n",
              "        [ 77],\n",
              "        [ 75],\n",
              "        [ 77],\n",
              "        [ 75],\n",
              "        [ 75],\n",
              "        [ 75],\n",
              "        [ 77],\n",
              "        [ 71],\n",
              "        [ 60],\n",
              "        [ 98],\n",
              "        [156],\n",
              "        [132],\n",
              "        [ 58],\n",
              "        [  0],\n",
              "        [  0],\n",
              "        [  0],\n",
              "        [  0]],\n",
              "\n",
              "       [[  0],\n",
              "        [  0],\n",
              "        [  0],\n",
              "        [ 13],\n",
              "        [ 77],\n",
              "        [ 74],\n",
              "        [157],\n",
              "        [143],\n",
              "        [ 43],\n",
              "        [ 61],\n",
              "        [ 72],\n",
              "        [ 75],\n",
              "        [ 77],\n",
              "        [ 75],\n",
              "        [ 74],\n",
              "        [ 77],\n",
              "        [ 77],\n",
              "        [ 75],\n",
              "        [ 71],\n",
              "        [ 58],\n",
              "        [ 80],\n",
              "        [157],\n",
              "        [120],\n",
              "        [ 66],\n",
              "        [  0],\n",
              "        [  0],\n",
              "        [  0],\n",
              "        [  0]],\n",
              "\n",
              "       [[  0],\n",
              "        [  0],\n",
              "        [  0],\n",
              "        [ 18],\n",
              "        [ 81],\n",
              "        [ 74],\n",
              "        [156],\n",
              "        [114],\n",
              "        [ 35],\n",
              "        [ 72],\n",
              "        [ 71],\n",
              "        [ 75],\n",
              "        [ 78],\n",
              "        [ 72],\n",
              "        [ 66],\n",
              "        [ 80],\n",
              "        [ 78],\n",
              "        [ 77],\n",
              "        [ 75],\n",
              "        [ 64],\n",
              "        [ 63],\n",
              "        [165],\n",
              "        [119],\n",
              "        [ 68],\n",
              "        [  0],\n",
              "        [  0],\n",
              "        [  0],\n",
              "        [  0]],\n",
              "\n",
              "       [[  0],\n",
              "        [  0],\n",
              "        [  0],\n",
              "        [ 23],\n",
              "        [ 85],\n",
              "        [ 81],\n",
              "        [177],\n",
              "        [ 57],\n",
              "        [ 52],\n",
              "        [ 77],\n",
              "        [ 71],\n",
              "        [ 78],\n",
              "        [ 80],\n",
              "        [ 72],\n",
              "        [ 75],\n",
              "        [ 74],\n",
              "        [ 77],\n",
              "        [ 77],\n",
              "        [ 75],\n",
              "        [ 64],\n",
              "        [ 37],\n",
              "        [173],\n",
              "        [ 95],\n",
              "        [ 72],\n",
              "        [  0],\n",
              "        [  0],\n",
              "        [  0],\n",
              "        [  0]],\n",
              "\n",
              "       [[  0],\n",
              "        [  0],\n",
              "        [  0],\n",
              "        [ 26],\n",
              "        [ 81],\n",
              "        [ 86],\n",
              "        [160],\n",
              "        [ 20],\n",
              "        [ 75],\n",
              "        [ 77],\n",
              "        [ 77],\n",
              "        [ 80],\n",
              "        [ 78],\n",
              "        [ 80],\n",
              "        [ 89],\n",
              "        [ 78],\n",
              "        [ 81],\n",
              "        [ 83],\n",
              "        [ 80],\n",
              "        [ 74],\n",
              "        [ 20],\n",
              "        [177],\n",
              "        [ 77],\n",
              "        [ 74],\n",
              "        [  0],\n",
              "        [  0],\n",
              "        [  0],\n",
              "        [  0]],\n",
              "\n",
              "       [[  0],\n",
              "        [  0],\n",
              "        [  0],\n",
              "        [ 49],\n",
              "        [ 77],\n",
              "        [ 91],\n",
              "        [200],\n",
              "        [  0],\n",
              "        [ 83],\n",
              "        [ 95],\n",
              "        [ 86],\n",
              "        [ 88],\n",
              "        [ 88],\n",
              "        [ 89],\n",
              "        [ 88],\n",
              "        [ 89],\n",
              "        [ 88],\n",
              "        [ 83],\n",
              "        [ 89],\n",
              "        [ 86],\n",
              "        [  0],\n",
              "        [191],\n",
              "        [ 78],\n",
              "        [ 80],\n",
              "        [ 24],\n",
              "        [  0],\n",
              "        [  0],\n",
              "        [  0]],\n",
              "\n",
              "       [[  0],\n",
              "        [  0],\n",
              "        [  0],\n",
              "        [ 54],\n",
              "        [ 71],\n",
              "        [108],\n",
              "        [165],\n",
              "        [  0],\n",
              "        [ 24],\n",
              "        [ 57],\n",
              "        [ 52],\n",
              "        [ 57],\n",
              "        [ 60],\n",
              "        [ 60],\n",
              "        [ 60],\n",
              "        [ 63],\n",
              "        [ 63],\n",
              "        [ 77],\n",
              "        [ 89],\n",
              "        [ 52],\n",
              "        [  0],\n",
              "        [211],\n",
              "        [ 97],\n",
              "        [ 77],\n",
              "        [ 61],\n",
              "        [  0],\n",
              "        [  0],\n",
              "        [  0]],\n",
              "\n",
              "       [[  0],\n",
              "        [  0],\n",
              "        [  0],\n",
              "        [ 68],\n",
              "        [ 91],\n",
              "        [117],\n",
              "        [137],\n",
              "        [  0],\n",
              "        [  0],\n",
              "        [  0],\n",
              "        [  0],\n",
              "        [  0],\n",
              "        [  0],\n",
              "        [  0],\n",
              "        [  0],\n",
              "        [  0],\n",
              "        [  0],\n",
              "        [  0],\n",
              "        [  0],\n",
              "        [  0],\n",
              "        [ 18],\n",
              "        [216],\n",
              "        [ 94],\n",
              "        [ 97],\n",
              "        [ 57],\n",
              "        [  0],\n",
              "        [  0],\n",
              "        [  0]],\n",
              "\n",
              "       [[  0],\n",
              "        [  0],\n",
              "        [  0],\n",
              "        [ 54],\n",
              "        [115],\n",
              "        [105],\n",
              "        [185],\n",
              "        [  0],\n",
              "        [  0],\n",
              "        [  1],\n",
              "        [  0],\n",
              "        [  0],\n",
              "        [  0],\n",
              "        [  0],\n",
              "        [  0],\n",
              "        [  0],\n",
              "        [  0],\n",
              "        [  0],\n",
              "        [  0],\n",
              "        [  0],\n",
              "        [  0],\n",
              "        [153],\n",
              "        [ 78],\n",
              "        [106],\n",
              "        [ 37],\n",
              "        [  0],\n",
              "        [  0],\n",
              "        [  0]],\n",
              "\n",
              "       [[  0],\n",
              "        [  0],\n",
              "        [  0],\n",
              "        [ 18],\n",
              "        [ 61],\n",
              "        [ 41],\n",
              "        [103],\n",
              "        [  0],\n",
              "        [  0],\n",
              "        [  0],\n",
              "        [  0],\n",
              "        [  0],\n",
              "        [  0],\n",
              "        [  0],\n",
              "        [  0],\n",
              "        [  0],\n",
              "        [  0],\n",
              "        [  0],\n",
              "        [  0],\n",
              "        [  0],\n",
              "        [  0],\n",
              "        [106],\n",
              "        [ 47],\n",
              "        [ 69],\n",
              "        [ 23],\n",
              "        [  0],\n",
              "        [  0],\n",
              "        [  0]]], dtype=uint8)"
            ]
          },
          "execution_count": 12,
          "metadata": {},
          "output_type": "execute_result"
        }
      ],
      "source": [
        "# Getting data out of the pipeline\n",
        "dataiterator.next()['image']"
      ]
    },
    {
      "cell_type": "code",
      "execution_count": 13,
      "id": "deb5fca0-fd8a-4557-9c72-1a60c289a2e5",
      "metadata": {
        "colab": {
          "base_uri": "https://localhost:8080/",
          "height": 234
        },
        "id": "deb5fca0-fd8a-4557-9c72-1a60c289a2e5",
        "outputId": "99d14b06-69ec-4800-b764-d459c192cacd"
      },
      "outputs": [
        {
          "data": {
            "image/png": "[encoded data removed]",
            "text/plain": [
              "<Figure size 2000x2000 with 4 Axes>"
            ]
          },
          "metadata": {},
          "output_type": "display_data"
        }
      ],
      "source": [
        "# Setup the subplot formatting \n",
        "fig, ax = plt.subplots(ncols=4, figsize=(20,20))\n",
        "# Loop four times and get images \n",
        "for idx in range(4): \n",
        "    # Grab an image and label\n",
        "    sample = dataiterator.next()\n",
        "    # Plot the image using a specific subplot \n",
        "    ax[idx].imshow(np.squeeze(sample['image']))\n",
        "    # Appending the image label as the plot title \n",
        "    ax[idx].title.set_text(sample['label'])"
      ]
    },
    {
      "cell_type": "code",
      "execution_count": 14,
      "id": "66c9d901-6a5c-42fd-ad06-cc03f7829728",
      "metadata": {
        "id": "66c9d901-6a5c-42fd-ad06-cc03f7829728"
      },
      "outputs": [],
      "source": [
        "# Scale and return images only \n",
        "def scale_images(data): \n",
        "    image = data['image']\n",
        "    return image / 255"
      ]
    },
    {
      "cell_type": "code",
      "execution_count": 15,
      "id": "dfc9b6b1-e06e-421c-9c5c-bfc3b3e3be77",
      "metadata": {
        "id": "dfc9b6b1-e06e-421c-9c5c-bfc3b3e3be77"
      },
      "outputs": [],
      "source": [
        "# Reload the dataset \n",
        "ds = tfds.load('fashion_mnist', split='train')\n",
        "# Running the dataset through the scale_images preprocessing step\n",
        "ds = ds.map(scale_images) \n",
        "# Cache the dataset for that batch \n",
        "ds = ds.cache()\n",
        "# Shuffle it up \n",
        "ds = ds.shuffle(60000)\n",
        "# Batch into 128 images per sample\n",
        "ds = ds.batch(128)\n",
        "# Reduces the likelihood of bottlenecking \n",
        "ds = ds.prefetch(64)"
      ]
    },
    {
      "cell_type": "code",
      "execution_count": 16,
      "id": "fbb52952-faa1-445f-8931-2f0f37224bfb",
      "metadata": {
        "colab": {
          "base_uri": "https://localhost:8080/"
        },
        "id": "fbb52952-faa1-445f-8931-2f0f37224bfb",
        "outputId": "4c4324bb-6976-4df9-be00-70c134d815ad"
      },
      "outputs": [
        {
          "data": {
            "text/plain": [
              "(128, 28, 28, 1)"
            ]
          },
          "execution_count": 16,
          "metadata": {},
          "output_type": "execute_result"
        }
      ],
      "source": [
        "ds.as_numpy_iterator().next().shape"
      ]
    },
    {
      "cell_type": "markdown",
      "id": "9a5b08df-7b20-41f4-a8ff-112dface1cb0",
      "metadata": {
        "id": "9a5b08df-7b20-41f4-a8ff-112dface1cb0"
      },
      "source": [
        "# 3. Build Neural Network"
      ]
    },
    {
      "cell_type": "markdown",
      "id": "38f66add-a3db-467f-96c3-f87b9f880159",
      "metadata": {
        "id": "38f66add-a3db-467f-96c3-f87b9f880159"
      },
      "source": [
        "### 3.1 Import Modelling Components"
      ]
    },
    {
      "cell_type": "code",
      "execution_count": 17,
      "id": "bb72da39-377f-4264-b525-c87f49fb0356",
      "metadata": {
        "id": "bb72da39-377f-4264-b525-c87f49fb0356"
      },
      "outputs": [],
      "source": [
        "# Bring in the sequential api for the generator and discriminator\n",
        "from tensorflow.keras.models import Sequential\n",
        "# Bring in the layers for the neural network\n",
        "from tensorflow.keras.layers import Conv2D, Dense, Flatten, Reshape, LeakyReLU, Dropout, UpSampling2D"
      ]
    },
    {
      "cell_type": "markdown",
      "id": "c40405df-1439-4661-8785-d76698df8152",
      "metadata": {
        "id": "c40405df-1439-4661-8785-d76698df8152"
      },
      "source": [
        "### 3.2 Build Generator"
      ]
    },
    {
      "cell_type": "code",
      "execution_count": 18,
      "id": "5d29d43a-e02a-4031-a0ec-de8aa810c118",
      "metadata": {
        "id": "5d29d43a-e02a-4031-a0ec-de8aa810c118"
      },
      "outputs": [],
      "source": [
        "def build_generator(): \n",
        "    model = Sequential()\n",
        "    \n",
        "    # Takes in random values and reshapes it to 7x7x128\n",
        "    # Beginnings of a generated image\n",
        "    model.add(Dense(7*7*128, input_dim=128))\n",
        "    model.add(LeakyReLU(0.2))\n",
        "    model.add(Reshape((7,7,128)))\n",
        "    \n",
        "    # Upsampling block 1 \n",
        "    model.add(UpSampling2D())\n",
        "    model.add(Conv2D(128, 5, padding='same'))\n",
        "    model.add(LeakyReLU(0.2))\n",
        "    \n",
        "    # Upsampling block 2 \n",
        "    model.add(UpSampling2D())\n",
        "    model.add(Conv2D(128, 5, padding='same'))\n",
        "    model.add(LeakyReLU(0.2))\n",
        "    \n",
        "    # Convolutional block 1\n",
        "    model.add(Conv2D(128, 4, padding='same'))\n",
        "    model.add(LeakyReLU(0.2))\n",
        "    \n",
        "    # Convolutional block 2\n",
        "    model.add(Conv2D(128, 4, padding='same'))\n",
        "    model.add(LeakyReLU(0.2))\n",
        "    \n",
        "    # Conv layer to get to one channel\n",
        "    model.add(Conv2D(1, 4, padding='same', activation='sigmoid'))\n",
        "    \n",
        "    return model"
      ]
    },
    {
      "cell_type": "code",
      "execution_count": 19,
      "id": "741b0d58-1b9f-4260-8405-dc400c73f843",
      "metadata": {
        "id": "741b0d58-1b9f-4260-8405-dc400c73f843"
      },
      "outputs": [],
      "source": [
        "generator = build_generator()"
      ]
    },
    {
      "cell_type": "code",
      "execution_count": 20,
      "id": "259ab9c1-6d6c-49a0-b0c4-f45b7c68f588",
      "metadata": {
        "colab": {
          "base_uri": "https://localhost:8080/"
        },
        "id": "259ab9c1-6d6c-49a0-b0c4-f45b7c68f588",
        "outputId": "b298598e-b0f8-4657-b119-483c172e5ea5",
        "scrolled": true
      },
      "outputs": [
        {
          "name": "stdout",
          "output_type": "stream",
          "text": [
            "Model: \"sequential\"\n",
            "_________________________________________________________________\n",
            " Layer (type)                Output Shape              Param #   \n",
            "=================================================================\n",
            " dense (Dense)               (None, 6272)              809088    \n",
            "                                                                 \n",
            " leaky_re_lu (LeakyReLU)     (None, 6272)              0         \n",
            "                                                                 \n",
            " reshape (Reshape)           (None, 7, 7, 128)         0         \n",
            "                                                                 \n",
            " up_sampling2d (UpSampling2D  (None, 14, 14, 128)      0         \n",
            " )                                                               \n",
            "                                                                 \n",
            " conv2d (Conv2D)             (None, 14, 14, 128)       409728    \n",
            "                                                                 \n",
            " leaky_re_lu_1 (LeakyReLU)   (None, 14, 14, 128)       0         \n",
            "                                                                 \n",
            " up_sampling2d_1 (UpSampling  (None, 28, 28, 128)      0         \n",
            " 2D)                                                             \n",
            "                                                                 \n",
            " conv2d_1 (Conv2D)           (None, 28, 28, 128)       409728    \n",
            "                                                                 \n",
            " leaky_re_lu_2 (LeakyReLU)   (None, 28, 28, 128)       0         \n",
            "                                                                 \n",
            " conv2d_2 (Conv2D)           (None, 28, 28, 128)       262272    \n",
            "                                                                 \n",
            " leaky_re_lu_3 (LeakyReLU)   (None, 28, 28, 128)       0         \n",
            "                                                                 \n",
            " conv2d_3 (Conv2D)           (None, 28, 28, 128)       262272    \n",
            "                                                                 \n",
            " leaky_re_lu_4 (LeakyReLU)   (None, 28, 28, 128)       0         \n",
            "                                                                 \n",
            " conv2d_4 (Conv2D)           (None, 28, 28, 1)         2049      \n",
            "                                                                 \n",
            "=================================================================\n",
            "Total params: 2,155,137\n",
            "Trainable params: 2,155,137\n",
            "Non-trainable params: 0\n",
            "_________________________________________________________________\n"
          ]
        }
      ],
      "source": [
        "generator.summary()"
      ]
    },
    {
      "cell_type": "code",
      "execution_count": 21,
      "id": "10ba4d1c-6a15-4097-bf63-5fe6ddb404b6",
      "metadata": {
        "colab": {
          "base_uri": "https://localhost:8080/"
        },
        "id": "10ba4d1c-6a15-4097-bf63-5fe6ddb404b6",
        "outputId": "3daa1d5a-14f2-4c2e-c1fd-e3d9e3aca8bc"
      },
      "outputs": [
        {
          "name": "stdout",
          "output_type": "stream",
          "text": [
            "1/1 [==============================] - 0s 145ms/step\n"
          ]
        }
      ],
      "source": [
        "img = generator.predict(np.random.randn(4,128,1))"
      ]
    },
    {
      "cell_type": "code",
      "execution_count": 22,
      "id": "9b4e0cb6-d741-4d43-b845-2a8f2615765b",
      "metadata": {
        "colab": {
          "base_uri": "https://localhost:8080/",
          "height": 251
        },
        "id": "9b4e0cb6-d741-4d43-b845-2a8f2615765b",
        "outputId": "847e425a-4f8b-436b-f308-a0757298b7b5"
      },
      "outputs": [
        {
          "name": "stdout",
          "output_type": "stream",
          "text": [
            "1/1 [==============================] - 0s 48ms/step\n"
          ]
        },
        {
          "data": {
            "image/png": "[encoded data removed]",
            "text/plain": [
              "<Figure size 2000x2000 with 4 Axes>"
            ]
          },
          "metadata": {},
          "output_type": "display_data"
        }
      ],
      "source": [
        "# Generate new fashion\n",
        "img = generator.predict(np.random.randn(4,128,1))\n",
        "# Setup the subplot formatting \n",
        "fig, ax = plt.subplots(ncols=4, figsize=(20,20))\n",
        "# Loop four times and get images \n",
        "for idx, img in enumerate(img): \n",
        "    # Plot the image using a specific subplot \n",
        "    ax[idx].imshow(np.squeeze(img))\n",
        "    # Appending the image label as the plot title \n",
        "    ax[idx].title.set_text(idx)"
      ]
    },
    {
      "cell_type": "markdown",
      "id": "2415abbf-24ed-4bac-8fb8-12c65017ec22",
      "metadata": {
        "id": "2415abbf-24ed-4bac-8fb8-12c65017ec22"
      },
      "source": [
        "### 3.3 Build Discriminator"
      ]
    },
    {
      "cell_type": "code",
      "execution_count": 23,
      "id": "b4e70bcb-cfd5-42bb-aed0-79f19bb38d17",
      "metadata": {
        "id": "b4e70bcb-cfd5-42bb-aed0-79f19bb38d17"
      },
      "outputs": [],
      "source": [
        "def build_discriminator(): \n",
        "    model = Sequential()\n",
        "    \n",
        "    # First Conv Block\n",
        "    model.add(Conv2D(32, 5, input_shape = (28,28,1)))\n",
        "    model.add(LeakyReLU(0.2))\n",
        "    model.add(Dropout(0.4))\n",
        "    \n",
        "    # Second Conv Block\n",
        "    model.add(Conv2D(64, 5))\n",
        "    model.add(LeakyReLU(0.2))\n",
        "    model.add(Dropout(0.4))\n",
        "    \n",
        "    # Third Conv Block\n",
        "    model.add(Conv2D(128, 5))\n",
        "    model.add(LeakyReLU(0.2))\n",
        "    model.add(Dropout(0.4))\n",
        "    \n",
        "    # Fourth Conv Block\n",
        "    model.add(Conv2D(256, 5))\n",
        "    model.add(LeakyReLU(0.2))\n",
        "    model.add(Dropout(0.4))\n",
        "    \n",
        "    # Flatten then pass to dense layer\n",
        "    model.add(Flatten())\n",
        "    model.add(Dropout(0.4))\n",
        "    model.add(Dense(1, activation='sigmoid'))\n",
        "    \n",
        "    return model "
      ]
    },
    {
      "cell_type": "code",
      "execution_count": 24,
      "id": "7173eb57-250b-4d21-9b37-de842c4552ac",
      "metadata": {
        "id": "7173eb57-250b-4d21-9b37-de842c4552ac"
      },
      "outputs": [],
      "source": [
        "discriminator = build_discriminator()"
      ]
    },
    {
      "cell_type": "code",
      "execution_count": 25,
      "id": "ed6fecbc-f214-4f50-865c-91887b2430e7",
      "metadata": {
        "colab": {
          "base_uri": "https://localhost:8080/"
        },
        "id": "ed6fecbc-f214-4f50-865c-91887b2430e7",
        "outputId": "31577ea1-2596-4162-eb18-dda457be364b",
        "scrolled": true
      },
      "outputs": [
        {
          "name": "stdout",
          "output_type": "stream",
          "text": [
            "Model: \"sequential_1\"\n",
            "_________________________________________________________________\n",
            " Layer (type)                Output Shape              Param #   \n",
            "=================================================================\n",
            " conv2d_5 (Conv2D)           (None, 24, 24, 32)        832       \n",
            "                                                                 \n",
            " leaky_re_lu_5 (LeakyReLU)   (None, 24, 24, 32)        0         \n",
            "                                                                 \n",
            " dropout (Dropout)           (None, 24, 24, 32)        0         \n",
            "                                                                 \n",
            " conv2d_6 (Conv2D)           (None, 20, 20, 64)        51264     \n",
            "                                                                 \n",
            " leaky_re_lu_6 (LeakyReLU)   (None, 20, 20, 64)        0         \n",
            "                                                                 \n",
            " dropout_1 (Dropout)         (None, 20, 20, 64)        0         \n",
            "                                                                 \n",
            " conv2d_7 (Conv2D)           (None, 16, 16, 128)       204928    \n",
            "                                                                 \n",
            " leaky_re_lu_7 (LeakyReLU)   (None, 16, 16, 128)       0         \n",
            "                                                                 \n",
            " dropout_2 (Dropout)         (None, 16, 16, 128)       0         \n",
            "                                                                 \n",
            " conv2d_8 (Conv2D)           (None, 12, 12, 256)       819456    \n",
            "                                                                 \n",
            " leaky_re_lu_8 (LeakyReLU)   (None, 12, 12, 256)       0         \n",
            "                                                                 \n",
            " dropout_3 (Dropout)         (None, 12, 12, 256)       0         \n",
            "                                                                 \n",
            " flatten (Flatten)           (None, 36864)             0         \n",
            "                                                                 \n",
            " dropout_4 (Dropout)         (None, 36864)             0         \n",
            "                                                                 \n",
            " dense_1 (Dense)             (None, 1)                 36865     \n",
            "                                                                 \n",
            "=================================================================\n",
            "Total params: 1,113,345\n",
            "Trainable params: 1,113,345\n",
            "Non-trainable params: 0\n",
            "_________________________________________________________________\n"
          ]
        }
      ],
      "source": [
        "discriminator.summary()"
      ]
    },
    {
      "cell_type": "code",
      "execution_count": 26,
      "id": "_Rcutwn6i_76",
      "metadata": {
        "colab": {
          "base_uri": "https://localhost:8080/"
        },
        "id": "_Rcutwn6i_76",
        "outputId": "20aa18c0-7391-45f9-9d3b-a7b93a33fa22"
      },
      "outputs": [
        {
          "name": "stdout",
          "output_type": "stream",
          "text": [
            "1/1 [==============================] - 0s 26ms/step\n"
          ]
        }
      ],
      "source": [
        "img = generator.predict(np.random.randn(4,128,1))"
      ]
    },
    {
      "cell_type": "code",
      "execution_count": 27,
      "id": "19e32424-f9c5-499c-a13f-b450bc525bdc",
      "metadata": {
        "id": "19e32424-f9c5-499c-a13f-b450bc525bdc"
      },
      "outputs": [],
      "source": [
        "img = img[0]"
      ]
    },
    {
      "cell_type": "code",
      "execution_count": 28,
      "id": "9ce3acc9-02c8-468f-915a-0efd52da0bad",
      "metadata": {
        "colab": {
          "base_uri": "https://localhost:8080/"
        },
        "id": "9ce3acc9-02c8-468f-915a-0efd52da0bad",
        "outputId": "7e125553-e1c1-4ce3-facc-79e45d307b4f"
      },
      "outputs": [
        {
          "data": {
            "text/plain": [
              "(28, 28, 1)"
            ]
          },
          "execution_count": 28,
          "metadata": {},
          "output_type": "execute_result"
        }
      ],
      "source": [
        "img.shape"
      ]
    },
    {
      "cell_type": "code",
      "execution_count": 29,
      "id": "8cd15246-b40c-4c7a-912d-b88a1c5c463b",
      "metadata": {
        "id": "8cd15246-b40c-4c7a-912d-b88a1c5c463b"
      },
      "outputs": [],
      "source": [
        "discriminator.compile(optimizer='adam',loss = tf.keras.losses.SparseCategoricalCrossentropy(from_logits=True),\n",
        "              metrics=['accuracy'])"
      ]
    },
    {
      "cell_type": "markdown",
      "id": "39b343b0-38d3-4281-bedb-72099a18097e",
      "metadata": {
        "id": "39b343b0-38d3-4281-bedb-72099a18097e"
      },
      "source": [
        "# 4. Construct Training Loop"
      ]
    },
    {
      "cell_type": "markdown",
      "id": "884abab3-2f74-442d-856f-e104ef1ac8ef",
      "metadata": {
        "id": "884abab3-2f74-442d-856f-e104ef1ac8ef"
      },
      "source": [
        "### 4.1 Setup Losses and Optimizers"
      ]
    },
    {
      "cell_type": "code",
      "execution_count": 30,
      "id": "0bb1d23a-ea68-451a-bb38-e7795dc24311",
      "metadata": {
        "id": "0bb1d23a-ea68-451a-bb38-e7795dc24311"
      },
      "outputs": [],
      "source": [
        "# Adam is going to be the optimizer for both\n",
        "from tensorflow.keras.optimizers import Adam\n",
        "# Binary cross entropy is going to be the loss for both \n",
        "from tensorflow.keras.losses import BinaryCrossentropy"
      ]
    },
    {
      "cell_type": "code",
      "execution_count": 31,
      "id": "198b2d4e-d6b9-4b6c-a98c-65cd1b81da26",
      "metadata": {
        "id": "198b2d4e-d6b9-4b6c-a98c-65cd1b81da26"
      },
      "outputs": [],
      "source": [
        "g_opt = Adam(learning_rate=0.0001) \n",
        "d_opt = Adam(learning_rate=0.00001) \n",
        "g_loss = BinaryCrossentropy()\n",
        "d_loss = BinaryCrossentropy()"
      ]
    },
    {
      "cell_type": "markdown",
      "id": "9f170b0e-f731-4cbd-8068-24896f462c08",
      "metadata": {
        "id": "9f170b0e-f731-4cbd-8068-24896f462c08"
      },
      "source": [
        "### 4.2 Build Subclassed Model"
      ]
    },
    {
      "cell_type": "code",
      "execution_count": 32,
      "id": "9e2f5654-ed22-462d-be32-6c43d8b99b74",
      "metadata": {
        "id": "9e2f5654-ed22-462d-be32-6c43d8b99b74"
      },
      "outputs": [],
      "source": [
        "# Importing the base model class to subclass our training step \n",
        "from tensorflow.keras.models import Model"
      ]
    },
    {
      "cell_type": "code",
      "execution_count": 33,
      "id": "40a0af46-0243-4396-94d6-c1316d984de9",
      "metadata": {
        "id": "40a0af46-0243-4396-94d6-c1316d984de9"
      },
      "outputs": [],
      "source": [
        "class FashionGAN(Model): \n",
        "    def __init__(self, generator, discriminator, *args, **kwargs):\n",
        "        # Pass through args and kwargs to base class \n",
        "        super().__init__(*args, **kwargs)\n",
        "        \n",
        "        # Create attributes for gen and disc\n",
        "        self.generator = generator \n",
        "        self.discriminator = discriminator \n",
        "        \n",
        "    def compile(self, g_opt, d_opt, g_loss, d_loss, *args, **kwargs): \n",
        "        # Compile with base class\n",
        "        super().compile(*args, **kwargs)\n",
        "        \n",
        "        # Create attributes for losses and optimizers\n",
        "        self.g_opt = g_opt\n",
        "        self.d_opt = d_opt\n",
        "        self.g_loss = g_loss\n",
        "        self.d_loss = d_loss \n",
        "\n",
        "    def train_step(self, batch):\n",
        "        # Get the data \n",
        "        real_images = batch\n",
        "        fake_images = self.generator(tf.random.normal((128, 128, 1)), training=False)\n",
        "        \n",
        "        # Train the discriminator\n",
        "        with tf.GradientTape() as d_tape: \n",
        "            # Pass the real and fake images to the discriminator model\n",
        "            yhat_real = self.discriminator(real_images, training=True) \n",
        "            yhat_fake = self.discriminator(fake_images, training=True)\n",
        "            yhat_realfake = tf.concat([yhat_real, yhat_fake], axis=0)\n",
        "            \n",
        "            # Create labels for real and fakes images\n",
        "            y_realfake = tf.concat([tf.zeros_like(yhat_real), tf.ones_like(yhat_fake)], axis=0)\n",
        "            \n",
        "            # Add some noise to the TRUE outputs\n",
        "            noise_real = 0.15*tf.random.uniform(tf.shape(yhat_real))\n",
        "            noise_fake = -0.15*tf.random.uniform(tf.shape(yhat_fake))\n",
        "            y_realfake += tf.concat([noise_real, noise_fake], axis=0)\n",
        "            \n",
        "            # Calculate loss - BINARYCROSS \n",
        "            total_d_loss = self.d_loss(y_realfake, yhat_realfake)\n",
        "            \n",
        "        # Apply backpropagation - nn learn \n",
        "        dgrad = d_tape.gradient(total_d_loss, self.discriminator.trainable_variables) \n",
        "        self.d_opt.apply_gradients(zip(dgrad, self.discriminator.trainable_variables))\n",
        "        \n",
        "        # Train the generator \n",
        "        with tf.GradientTape() as g_tape: \n",
        "            # Generate some new images\n",
        "            gen_images = self.generator(tf.random.normal((128,128,1)), training=True)\n",
        "                                        \n",
        "            # Create the predicted labels\n",
        "            predicted_labels = self.discriminator(gen_images, training=False)\n",
        "                                        \n",
        "            # Calculate loss - trick to training to fake out the discriminator\n",
        "            total_g_loss = self.g_loss(tf.zeros_like(predicted_labels), predicted_labels) \n",
        "            \n",
        "        # Apply backprop\n",
        "        ggrad = g_tape.gradient(total_g_loss, self.generator.trainable_variables)\n",
        "        self.g_opt.apply_gradients(zip(ggrad, self.generator.trainable_variables))\n",
        "        \n",
        "        return {\"d_loss\":total_d_loss, \"g_loss\":total_g_loss}"
      ]
    },
    {
      "cell_type": "code",
      "execution_count": 34,
      "id": "24d248c3-f4c1-4478-a699-a5811a7b1fd0",
      "metadata": {
        "id": "24d248c3-f4c1-4478-a699-a5811a7b1fd0"
      },
      "outputs": [],
      "source": [
        "# Create instance of subclassed model\n",
        "fashgan = FashionGAN(generator, discriminator)"
      ]
    },
    {
      "cell_type": "code",
      "execution_count": 35,
      "id": "e1cf7e02-ee1a-4901-bdf0-9aa2301f8cfc",
      "metadata": {
        "id": "e1cf7e02-ee1a-4901-bdf0-9aa2301f8cfc"
      },
      "outputs": [],
      "source": [
        "# Compile the model\n",
        "fashgan.compile(g_opt, d_opt, g_loss, d_loss)"
      ]
    },
    {
      "cell_type": "markdown",
      "id": "e06d0adb-38d0-4558-b824-7416cf880082",
      "metadata": {
        "id": "e06d0adb-38d0-4558-b824-7416cf880082"
      },
      "source": [
        "### 4.3 Build Callback"
      ]
    },
    {
      "cell_type": "code",
      "execution_count": 36,
      "id": "548f6918-366c-4799-9dac-1acedaab40c4",
      "metadata": {
        "id": "548f6918-366c-4799-9dac-1acedaab40c4"
      },
      "outputs": [],
      "source": [
        "import os\n",
        "from tensorflow.keras.preprocessing.image import array_to_img\n",
        "from tensorflow.keras.callbacks import Callback"
      ]
    },
    {
      "cell_type": "code",
      "execution_count": 37,
      "id": "d3e2bb77-2d7d-40d0-809f-526b8fd34170",
      "metadata": {
        "id": "d3e2bb77-2d7d-40d0-809f-526b8fd34170"
      },
      "outputs": [],
      "source": [
        "class ModelMonitor(Callback):\n",
        "    def __init__(self, num_img=3, latent_dim=128):\n",
        "        self.num_img = num_img\n",
        "        self.latent_dim = latent_dim\n",
        "\n",
        "    def on_epoch_end(self, epoch, logs=None):\n",
        "        random_latent_vectors = tf.random.uniform((self.num_img, self.latent_dim,1))\n",
        "        generated_images = self.model.generator(random_latent_vectors)\n",
        "        generated_images *= 255\n",
        "        generated_images.numpy()\n",
        "        for i in range(self.num_img):\n",
        "            img = array_to_img(generated_images[i])\n",
        "            img.save(os.path.join('images', f'generated_img_{epoch}_{i}.png'))"
      ]
    },
    {
      "cell_type": "markdown",
      "id": "16e2f159-25e7-4e35-95ef-f0fd18ac5897",
      "metadata": {
        "id": "16e2f159-25e7-4e35-95ef-f0fd18ac5897"
      },
      "source": [
        "### 4.3 Train "
      ]
    },
    {
      "cell_type": "code",
      "execution_count": 38,
      "id": "a779dceb-aba6-4bf3-af49-0d32a76dd2f7",
      "metadata": {
        "colab": {
          "base_uri": "https://localhost:8080/",
          "height": 380
        },
        "id": "a779dceb-aba6-4bf3-af49-0d32a76dd2f7",
        "outputId": "f731abd1-ca11-474b-a5e5-d16687dfc5bf",
        "scrolled": true
      },
      "outputs": [
        {
          "name": "stdout",
          "output_type": "stream",
          "text": [
            "Epoch 1/10\n",
            " 28/469 [>.............................] - ETA: 42:49 - d_loss: 0.6885 - g_loss: 0.6753"
          ]
        },
        {
          "ename": "KeyboardInterrupt",
          "evalue": "",
          "output_type": "error",
          "traceback": [
            "\u001b[1;31m---------------------------------------------------------------------------\u001b[0m",
            "\u001b[1;31mKeyboardInterrupt\u001b[0m                         Traceback (most recent call last)",
            "Cell \u001b[1;32mIn[38], line 2\u001b[0m\n\u001b[0;32m      1\u001b[0m \u001b[39m# Recommend 2000 epochs\u001b[39;00m\n\u001b[1;32m----> 2\u001b[0m hist \u001b[39m=\u001b[39m fashgan\u001b[39m.\u001b[39;49mfit(ds, epochs\u001b[39m=\u001b[39;49m\u001b[39m10\u001b[39;49m, callbacks\u001b[39m=\u001b[39;49m[ModelMonitor()])\n",
            "File \u001b[1;32mc:\\Users\\haris\\anaconda\\envs\\gpu2\\lib\\site-packages\\keras\\utils\\traceback_utils.py:65\u001b[0m, in \u001b[0;36mfilter_traceback.<locals>.error_handler\u001b[1;34m(*args, **kwargs)\u001b[0m\n\u001b[0;32m     63\u001b[0m filtered_tb \u001b[39m=\u001b[39m \u001b[39mNone\u001b[39;00m\n\u001b[0;32m     64\u001b[0m \u001b[39mtry\u001b[39;00m:\n\u001b[1;32m---> 65\u001b[0m     \u001b[39mreturn\u001b[39;00m fn(\u001b[39m*\u001b[39margs, \u001b[39m*\u001b[39m\u001b[39m*\u001b[39mkwargs)\n\u001b[0;32m     66\u001b[0m \u001b[39mexcept\u001b[39;00m \u001b[39mException\u001b[39;00m \u001b[39mas\u001b[39;00m e:\n\u001b[0;32m     67\u001b[0m     filtered_tb \u001b[39m=\u001b[39m _process_traceback_frames(e\u001b[39m.\u001b[39m__traceback__)\n",
            "File \u001b[1;32mc:\\Users\\haris\\anaconda\\envs\\gpu2\\lib\\site-packages\\keras\\engine\\training.py:1650\u001b[0m, in \u001b[0;36mModel.fit\u001b[1;34m(self, x, y, batch_size, epochs, verbose, callbacks, validation_split, validation_data, shuffle, class_weight, sample_weight, initial_epoch, steps_per_epoch, validation_steps, validation_batch_size, validation_freq, max_queue_size, workers, use_multiprocessing)\u001b[0m\n\u001b[0;32m   1642\u001b[0m \u001b[39mwith\u001b[39;00m tf\u001b[39m.\u001b[39mprofiler\u001b[39m.\u001b[39mexperimental\u001b[39m.\u001b[39mTrace(\n\u001b[0;32m   1643\u001b[0m     \u001b[39m\"\u001b[39m\u001b[39mtrain\u001b[39m\u001b[39m\"\u001b[39m,\n\u001b[0;32m   1644\u001b[0m     epoch_num\u001b[39m=\u001b[39mepoch,\n\u001b[1;32m   (...)\u001b[0m\n\u001b[0;32m   1647\u001b[0m     _r\u001b[39m=\u001b[39m\u001b[39m1\u001b[39m,\n\u001b[0;32m   1648\u001b[0m ):\n\u001b[0;32m   1649\u001b[0m     callbacks\u001b[39m.\u001b[39mon_train_batch_begin(step)\n\u001b[1;32m-> 1650\u001b[0m     tmp_logs \u001b[39m=\u001b[39m \u001b[39mself\u001b[39;49m\u001b[39m.\u001b[39;49mtrain_function(iterator)\n\u001b[0;32m   1651\u001b[0m     \u001b[39mif\u001b[39;00m data_handler\u001b[39m.\u001b[39mshould_sync:\n\u001b[0;32m   1652\u001b[0m         context\u001b[39m.\u001b[39masync_wait()\n",
            "File \u001b[1;32mc:\\Users\\haris\\anaconda\\envs\\gpu2\\lib\\site-packages\\tensorflow\\python\\util\\traceback_utils.py:150\u001b[0m, in \u001b[0;36mfilter_traceback.<locals>.error_handler\u001b[1;34m(*args, **kwargs)\u001b[0m\n\u001b[0;32m    148\u001b[0m filtered_tb \u001b[39m=\u001b[39m \u001b[39mNone\u001b[39;00m\n\u001b[0;32m    149\u001b[0m \u001b[39mtry\u001b[39;00m:\n\u001b[1;32m--> 150\u001b[0m   \u001b[39mreturn\u001b[39;00m fn(\u001b[39m*\u001b[39margs, \u001b[39m*\u001b[39m\u001b[39m*\u001b[39mkwargs)\n\u001b[0;32m    151\u001b[0m \u001b[39mexcept\u001b[39;00m \u001b[39mException\u001b[39;00m \u001b[39mas\u001b[39;00m e:\n\u001b[0;32m    152\u001b[0m   filtered_tb \u001b[39m=\u001b[39m _process_traceback_frames(e\u001b[39m.\u001b[39m__traceback__)\n",
            "File \u001b[1;32mc:\\Users\\haris\\anaconda\\envs\\gpu2\\lib\\site-packages\\tensorflow\\python\\eager\\polymorphic_function\\polymorphic_function.py:880\u001b[0m, in \u001b[0;36mFunction.__call__\u001b[1;34m(self, *args, **kwds)\u001b[0m\n\u001b[0;32m    877\u001b[0m compiler \u001b[39m=\u001b[39m \u001b[39m\"\u001b[39m\u001b[39mxla\u001b[39m\u001b[39m\"\u001b[39m \u001b[39mif\u001b[39;00m \u001b[39mself\u001b[39m\u001b[39m.\u001b[39m_jit_compile \u001b[39melse\u001b[39;00m \u001b[39m\"\u001b[39m\u001b[39mnonXla\u001b[39m\u001b[39m\"\u001b[39m\n\u001b[0;32m    879\u001b[0m \u001b[39mwith\u001b[39;00m OptionalXlaContext(\u001b[39mself\u001b[39m\u001b[39m.\u001b[39m_jit_compile):\n\u001b[1;32m--> 880\u001b[0m   result \u001b[39m=\u001b[39m \u001b[39mself\u001b[39m\u001b[39m.\u001b[39m_call(\u001b[39m*\u001b[39margs, \u001b[39m*\u001b[39m\u001b[39m*\u001b[39mkwds)\n\u001b[0;32m    882\u001b[0m new_tracing_count \u001b[39m=\u001b[39m \u001b[39mself\u001b[39m\u001b[39m.\u001b[39mexperimental_get_tracing_count()\n\u001b[0;32m    883\u001b[0m without_tracing \u001b[39m=\u001b[39m (tracing_count \u001b[39m==\u001b[39m new_tracing_count)\n",
            "File \u001b[1;32mc:\\Users\\haris\\anaconda\\envs\\gpu2\\lib\\site-packages\\tensorflow\\python\\eager\\polymorphic_function\\polymorphic_function.py:912\u001b[0m, in \u001b[0;36mFunction._call\u001b[1;34m(self, *args, **kwds)\u001b[0m\n\u001b[0;32m    909\u001b[0m   \u001b[39mself\u001b[39m\u001b[39m.\u001b[39m_lock\u001b[39m.\u001b[39mrelease()\n\u001b[0;32m    910\u001b[0m   \u001b[39m# In this case we have created variables on the first call, so we run the\u001b[39;00m\n\u001b[0;32m    911\u001b[0m   \u001b[39m# defunned version which is guaranteed to never create variables.\u001b[39;00m\n\u001b[1;32m--> 912\u001b[0m   \u001b[39mreturn\u001b[39;00m \u001b[39mself\u001b[39m\u001b[39m.\u001b[39m_no_variable_creation_fn(\u001b[39m*\u001b[39margs, \u001b[39m*\u001b[39m\u001b[39m*\u001b[39mkwds)  \u001b[39m# pylint: disable=not-callable\u001b[39;00m\n\u001b[0;32m    913\u001b[0m \u001b[39melif\u001b[39;00m \u001b[39mself\u001b[39m\u001b[39m.\u001b[39m_variable_creation_fn \u001b[39mis\u001b[39;00m \u001b[39mnot\u001b[39;00m \u001b[39mNone\u001b[39;00m:\n\u001b[0;32m    914\u001b[0m   \u001b[39m# Release the lock early so that multiple threads can perform the call\u001b[39;00m\n\u001b[0;32m    915\u001b[0m   \u001b[39m# in parallel.\u001b[39;00m\n\u001b[0;32m    916\u001b[0m   \u001b[39mself\u001b[39m\u001b[39m.\u001b[39m_lock\u001b[39m.\u001b[39mrelease()\n",
            "File \u001b[1;32mc:\\Users\\haris\\anaconda\\envs\\gpu2\\lib\\site-packages\\tensorflow\\python\\eager\\polymorphic_function\\tracing_compiler.py:134\u001b[0m, in \u001b[0;36mTracingCompiler.__call__\u001b[1;34m(self, *args, **kwargs)\u001b[0m\n\u001b[0;32m    131\u001b[0m \u001b[39mwith\u001b[39;00m \u001b[39mself\u001b[39m\u001b[39m.\u001b[39m_lock:\n\u001b[0;32m    132\u001b[0m   (concrete_function,\n\u001b[0;32m    133\u001b[0m    filtered_flat_args) \u001b[39m=\u001b[39m \u001b[39mself\u001b[39m\u001b[39m.\u001b[39m_maybe_define_function(args, kwargs)\n\u001b[1;32m--> 134\u001b[0m \u001b[39mreturn\u001b[39;00m concrete_function\u001b[39m.\u001b[39;49m_call_flat(\n\u001b[0;32m    135\u001b[0m     filtered_flat_args, captured_inputs\u001b[39m=\u001b[39;49mconcrete_function\u001b[39m.\u001b[39;49mcaptured_inputs)\n",
            "File \u001b[1;32mc:\\Users\\haris\\anaconda\\envs\\gpu2\\lib\\site-packages\\tensorflow\\python\\eager\\polymorphic_function\\monomorphic_function.py:1745\u001b[0m, in \u001b[0;36mConcreteFunction._call_flat\u001b[1;34m(self, args, captured_inputs, cancellation_manager)\u001b[0m\n\u001b[0;32m   1741\u001b[0m possible_gradient_type \u001b[39m=\u001b[39m gradients_util\u001b[39m.\u001b[39mPossibleTapeGradientTypes(args)\n\u001b[0;32m   1742\u001b[0m \u001b[39mif\u001b[39;00m (possible_gradient_type \u001b[39m==\u001b[39m gradients_util\u001b[39m.\u001b[39mPOSSIBLE_GRADIENT_TYPES_NONE\n\u001b[0;32m   1743\u001b[0m     \u001b[39mand\u001b[39;00m executing_eagerly):\n\u001b[0;32m   1744\u001b[0m   \u001b[39m# No tape is watching; skip to running the function.\u001b[39;00m\n\u001b[1;32m-> 1745\u001b[0m   \u001b[39mreturn\u001b[39;00m \u001b[39mself\u001b[39m\u001b[39m.\u001b[39m_build_call_outputs(\u001b[39mself\u001b[39;49m\u001b[39m.\u001b[39;49m_inference_function\u001b[39m.\u001b[39;49mcall(\n\u001b[0;32m   1746\u001b[0m       ctx, args, cancellation_manager\u001b[39m=\u001b[39;49mcancellation_manager))\n\u001b[0;32m   1747\u001b[0m forward_backward \u001b[39m=\u001b[39m \u001b[39mself\u001b[39m\u001b[39m.\u001b[39m_select_forward_and_backward_functions(\n\u001b[0;32m   1748\u001b[0m     args,\n\u001b[0;32m   1749\u001b[0m     possible_gradient_type,\n\u001b[0;32m   1750\u001b[0m     executing_eagerly)\n\u001b[0;32m   1751\u001b[0m forward_function, args_with_tangents \u001b[39m=\u001b[39m forward_backward\u001b[39m.\u001b[39mforward()\n",
            "File \u001b[1;32mc:\\Users\\haris\\anaconda\\envs\\gpu2\\lib\\site-packages\\tensorflow\\python\\eager\\polymorphic_function\\monomorphic_function.py:378\u001b[0m, in \u001b[0;36m_EagerDefinedFunction.call\u001b[1;34m(self, ctx, args, cancellation_manager)\u001b[0m\n\u001b[0;32m    376\u001b[0m \u001b[39mwith\u001b[39;00m _InterpolateFunctionError(\u001b[39mself\u001b[39m):\n\u001b[0;32m    377\u001b[0m   \u001b[39mif\u001b[39;00m cancellation_manager \u001b[39mis\u001b[39;00m \u001b[39mNone\u001b[39;00m:\n\u001b[1;32m--> 378\u001b[0m     outputs \u001b[39m=\u001b[39m execute\u001b[39m.\u001b[39;49mexecute(\n\u001b[0;32m    379\u001b[0m         \u001b[39mstr\u001b[39;49m(\u001b[39mself\u001b[39;49m\u001b[39m.\u001b[39;49msignature\u001b[39m.\u001b[39;49mname),\n\u001b[0;32m    380\u001b[0m         num_outputs\u001b[39m=\u001b[39;49m\u001b[39mself\u001b[39;49m\u001b[39m.\u001b[39;49m_num_outputs,\n\u001b[0;32m    381\u001b[0m         inputs\u001b[39m=\u001b[39;49margs,\n\u001b[0;32m    382\u001b[0m         attrs\u001b[39m=\u001b[39;49mattrs,\n\u001b[0;32m    383\u001b[0m         ctx\u001b[39m=\u001b[39;49mctx)\n\u001b[0;32m    384\u001b[0m   \u001b[39melse\u001b[39;00m:\n\u001b[0;32m    385\u001b[0m     outputs \u001b[39m=\u001b[39m execute\u001b[39m.\u001b[39mexecute_with_cancellation(\n\u001b[0;32m    386\u001b[0m         \u001b[39mstr\u001b[39m(\u001b[39mself\u001b[39m\u001b[39m.\u001b[39msignature\u001b[39m.\u001b[39mname),\n\u001b[0;32m    387\u001b[0m         num_outputs\u001b[39m=\u001b[39m\u001b[39mself\u001b[39m\u001b[39m.\u001b[39m_num_outputs,\n\u001b[1;32m   (...)\u001b[0m\n\u001b[0;32m    390\u001b[0m         ctx\u001b[39m=\u001b[39mctx,\n\u001b[0;32m    391\u001b[0m         cancellation_manager\u001b[39m=\u001b[39mcancellation_manager)\n",
            "File \u001b[1;32mc:\\Users\\haris\\anaconda\\envs\\gpu2\\lib\\site-packages\\tensorflow\\python\\eager\\execute.py:52\u001b[0m, in \u001b[0;36mquick_execute\u001b[1;34m(op_name, num_outputs, inputs, attrs, ctx, name)\u001b[0m\n\u001b[0;32m     50\u001b[0m \u001b[39mtry\u001b[39;00m:\n\u001b[0;32m     51\u001b[0m   ctx\u001b[39m.\u001b[39mensure_initialized()\n\u001b[1;32m---> 52\u001b[0m   tensors \u001b[39m=\u001b[39m pywrap_tfe\u001b[39m.\u001b[39;49mTFE_Py_Execute(ctx\u001b[39m.\u001b[39;49m_handle, device_name, op_name,\n\u001b[0;32m     53\u001b[0m                                       inputs, attrs, num_outputs)\n\u001b[0;32m     54\u001b[0m \u001b[39mexcept\u001b[39;00m core\u001b[39m.\u001b[39m_NotOkStatusException \u001b[39mas\u001b[39;00m e:\n\u001b[0;32m     55\u001b[0m   \u001b[39mif\u001b[39;00m name \u001b[39mis\u001b[39;00m \u001b[39mnot\u001b[39;00m \u001b[39mNone\u001b[39;00m:\n",
            "\u001b[1;31mKeyboardInterrupt\u001b[0m: "
          ]
        }
      ],
      "source": [
        "# Recommend 2000 epochs\n",
        "hist = fashgan.fit(ds, epochs=10, callbacks=[ModelMonitor()])"
      ]
    },
    {
      "cell_type": "markdown",
      "id": "39c665a1-a4cc-41ac-a08a-2e14ba64e88d",
      "metadata": {
        "id": "39c665a1-a4cc-41ac-a08a-2e14ba64e88d"
      },
      "source": [
        "### 4.4 Review Performance"
      ]
    },
    {
      "cell_type": "code",
      "execution_count": null,
      "id": "54381e8c-93ee-4022-9df6-24c4356720fe",
      "metadata": {
        "id": "54381e8c-93ee-4022-9df6-24c4356720fe"
      },
      "outputs": [],
      "source": [
        "plt.suptitle('Loss')\n",
        "plt.plot(hist.history['d_loss'], label='d_loss')\n",
        "plt.plot(hist.history['g_loss'], label='g_loss')\n",
        "plt.legend()\n",
        "plt.show()"
      ]
    },
    {
      "cell_type": "markdown",
      "id": "d319a982-7ae5-4754-adcf-b490f17a79d6",
      "metadata": {
        "id": "d319a982-7ae5-4754-adcf-b490f17a79d6"
      },
      "source": [
        "# 5. Test Out the Generator"
      ]
    },
    {
      "cell_type": "markdown",
      "id": "206ba81f-978a-4c31-9c3d-6ebe5a5bfc29",
      "metadata": {
        "id": "206ba81f-978a-4c31-9c3d-6ebe5a5bfc29"
      },
      "source": [
        "### 5.1 Generate Images"
      ]
    },
    {
      "cell_type": "code",
      "execution_count": null,
      "id": "QkyB2jTfxLWH",
      "metadata": {
        "id": "QkyB2jTfxLWH"
      },
      "outputs": [],
      "source": [
        "from google.colab import drive\n",
        "drive.mount('/content/drive')"
      ]
    },
    {
      "cell_type": "code",
      "execution_count": null,
      "id": "c46f3d6a-8aa5-40d2-a5ac-67a0606a82f0",
      "metadata": {
        "id": "c46f3d6a-8aa5-40d2-a5ac-67a0606a82f0"
      },
      "outputs": [],
      "source": [
        "generator.load_weights(os.path.join('/content/generator.h5'))"
      ]
    },
    {
      "cell_type": "code",
      "execution_count": null,
      "id": "14cde11f-cb26-4ebf-ad04-2c64a54f871e",
      "metadata": {
        "id": "14cde11f-cb26-4ebf-ad04-2c64a54f871e"
      },
      "outputs": [],
      "source": [
        "imgs = generator.predict(tf.random.normal((16, 128, 1)))"
      ]
    },
    {
      "cell_type": "code",
      "execution_count": null,
      "id": "SUuSmXzOvNcr",
      "metadata": {
        "id": "SUuSmXzOvNcr"
      },
      "outputs": [],
      "source": []
    },
    {
      "cell_type": "code",
      "execution_count": null,
      "id": "f745982f-c4d7-451f-91a7-f7c4341cb7b7",
      "metadata": {
        "id": "f745982f-c4d7-451f-91a7-f7c4341cb7b7"
      },
      "outputs": [],
      "source": [
        "fig, ax = plt.subplots(ncols=4, nrows=4, figsize=(10,10))\n",
        "for r in range(4): \n",
        "    for c in range(4): \n",
        "        ax[r][c].imshow(imgs[(r+1)*(c+1)-1])"
      ]
    },
    {
      "cell_type": "markdown",
      "id": "5137cffa-784d-4076-beef-0a067b86d3aa",
      "metadata": {
        "id": "5137cffa-784d-4076-beef-0a067b86d3aa"
      },
      "source": [
        "### 5.2 Save the Model"
      ]
    },
    {
      "cell_type": "code",
      "execution_count": null,
      "id": "a7011d68-ef71-4377-91e2-e26a02fab382",
      "metadata": {
        "id": "a7011d68-ef71-4377-91e2-e26a02fab382"
      },
      "outputs": [],
      "source": [
        "generator.save('generator.h5')\n",
        "discriminator.save('discriminator.h5')"
      ]
    },
    {
      "cell_type": "code",
      "execution_count": null,
      "id": "d14c2bd3-a344-4ac1-b2ee-6c90420368e6",
      "metadata": {
        "id": "d14c2bd3-a344-4ac1-b2ee-6c90420368e6"
      },
      "outputs": [],
      "source": []
    }
  ],
  "metadata": {
    "accelerator": "GPU",
    "colab": {
      "collapsed_sections": [
        "206ba81f-978a-4c31-9c3d-6ebe5a5bfc29"
      ],
      "provenance": []
    },
    "kernelspec": {
      "display_name": "gpu2",
      "language": "python",
      "name": "python3"
    },
    "language_info": {
      "codemirror_mode": {
        "name": "ipython",
        "version": 3
      },
      "file_extension": ".py",
      "mimetype": "text/x-python",
      "name": "python",
      "nbconvert_exporter": "python",
      "pygments_lexer": "ipython3",
      "version": "3.9.16"
    },
    "vscode": {
      "interpreter": {
        "hash": "f23034d42f2d260fd431e3d4755b613254cfd47895989acef4211200c179582d"
      }
    }
  },
  "nbformat": 4,
  "nbformat_minor": 5
}
